{
 "cells": [
  {
   "cell_type": "markdown",
   "id": "223102a4",
   "metadata": {},
   "source": [
    "## Introducción a CNNs\n",
    "\n",
    "### Referencias\n",
    "- LeCun, Y., Bengio, Y. and Hinton, G., 2015. [Deep Learning](https://www.nature.com/articles/nature14539). nature, 521(7553), pp.436-444.\n",
    "- [Ignite documentation](https://pytorch-ignite.ai/)\n",
    "- [PyTorch tutorials](https://pytorch.org/tutorials/) \n",
    "- [torchmetrics examples](https://torchmetrics.readthedocs.io/en/stable/pages/quickstart.html)\n",
    "- [visdom](https://github.com/fossasia/visdom)\n",
    "\n",
    "\n",
    "![pytorch cheatsheet](./figs/pytorch-cheat.jpeg \"pytorch cheatsheet\")\n",
    "\n",
    "Figure from [pytorch forum](https://discuss.pytorch.org/t/pytorch-cheat-sheet/72016)"
   ]
  },
  {
   "cell_type": "markdown",
   "id": "52a87ee0",
   "metadata": {},
   "source": [
    "### Que pasos debemos seguir para entrenar una CNN?\n",
    "- Cargar datos, transformarlos en formato necesario para pytorch. $t_{train}$ va a tener transformaciones diferentes a $t_{test}$, por que? \n",
    "- A los datos de entrenamiento debemos dividirlos una vez mas para usar elementos de validación durante el entrenamiento.\n",
    "- Definir arquitectura de nuestra red (Ver models.py)\n",
    "- Definir métodos funciones de error, optimizador y métricas de evaluación."
   ]
  },
  {
   "cell_type": "code",
   "execution_count": 43,
   "id": "333d5de8",
   "metadata": {},
   "outputs": [],
   "source": [
    "from torchvision import datasets\n",
    "from torchvision import transforms as tfs\n",
    "from torch.utils import data\n",
    "import PIL\n",
    "\n",
    "transforms_train = [tfs.RandomHorizontalFlip(p=0.7),\n",
    "                     tfs.RandomAffine(0, scale=(0.7, 1.)),\n",
    "                     tfs.Resize((64, 64)),\n",
    "                     tfs.Grayscale(1),\n",
    "                     tfs.Lambda(lambda x: PIL.ImageOps.invert(x)),\n",
    "                     tfs.ToTensor()\n",
    "                   ]\n",
    "\n",
    "transforms_test = [tfs.RandomHorizontalFlip(p=0.7),\n",
    "                   tfs.RandomAffine(0, scale=(0.7, 1.)),\n",
    "                   tfs.Resize((64, 64)),\n",
    "                   tfs.Grayscale(1),\n",
    "                   tfs.Lambda(lambda x: PIL.ImageOps.invert(x)),\n",
    "                   tfs.ToTensor()]\n",
    "\n",
    "train_data = datasets.ImageFolder('../data/train/',\n",
    "                                     transform=tfs.Compose(transforms_train))\n",
    "\n",
    "test_data = datasets.ImageFolder('../data/test/',\n",
    "                                     transform=tfs.Compose(transforms_test))"
   ]
  },
  {
   "cell_type": "code",
   "execution_count": 44,
   "id": "102b63cd",
   "metadata": {},
   "outputs": [
    {
     "data": {
      "text/plain": [
       "(963, 319, 96)"
      ]
     },
     "execution_count": 44,
     "metadata": {},
     "output_type": "execute_result"
    }
   ],
   "source": [
    "len(train_data.samples), len(test_data.samples), round(963*0.1)"
   ]
  },
  {
   "cell_type": "code",
   "execution_count": 54,
   "id": "f798dfc0",
   "metadata": {},
   "outputs": [],
   "source": [
    "splits = data.random_split(train_data, [867, 96])\n",
    "\n",
    "train_loader = data.DataLoader(splits[0], batch_size=64, shuffle=True)\n",
    "val_loader = data.DataLoader(splits[1], batch_size=64, shuffle=True)\n",
    "test_loader = data.DataLoader(test_data, batch_size=64, shuffle=True)"
   ]
  },
  {
   "cell_type": "markdown",
   "id": "7fcb747f",
   "metadata": {},
   "source": [
    "### Ahora tenemos que definir modelo, función de error, optimizador, etc.\n",
    "- Vamos a ver como usar ignite para entrenamiento supervisado, no se olviden de ver el dashboard the visdom en [http://localhost:8097/](http://localhost:8097/)\n",
    "- y un simple for loop con torch.\n"
   ]
  },
  {
   "cell_type": "code",
   "execution_count": 50,
   "id": "8c08b54a",
   "metadata": {},
   "outputs": [],
   "source": [
    "import torch.optim as optim\n",
    "from torch import nn\n",
    "from models import _C\n",
    "import visdom\n",
    "from ignite.engine import Events, create_supervised_trainer, create_supervised_evaluator\n",
    "from ignite.metrics import Accuracy, Loss\n",
    "import torch.nn.functional as F\n",
    "import torch\n",
    "from aux import create_plot_window\n",
    "import numpy as np"
   ]
  },
  {
   "cell_type": "code",
   "execution_count": null,
   "id": "9f1c33ee",
   "metadata": {},
   "outputs": [
    {
     "name": "stderr",
     "output_type": "stream",
     "text": [
      "Setting up a new session...\n"
     ]
    },
    {
     "name": "stdout",
     "output_type": "stream",
     "text": [
      "Training Results - Epoch: 1  Avg accuracy: 0.58 Avg loss: 2.18\n",
      "Validation Results - Epoch: 1  Avg accuracy: 0.58 Avg loss: 2.20\n",
      "Training Results - Epoch: 2  Avg accuracy: 0.61 Avg loss: 2.01\n",
      "Validation Results - Epoch: 2  Avg accuracy: 0.70 Avg loss: 1.94\n",
      "Training Results - Epoch: 3  Avg accuracy: 0.73 Avg loss: 1.83\n",
      "Validation Results - Epoch: 3  Avg accuracy: 0.70 Avg loss: 1.86\n",
      "Training Results - Epoch: 4  Avg accuracy: 0.75 Avg loss: 1.80\n",
      "Validation Results - Epoch: 4  Avg accuracy: 0.75 Avg loss: 1.78\n",
      "Training Results - Epoch: 5  Avg accuracy: 0.76 Avg loss: 1.79\n",
      "Validation Results - Epoch: 5  Avg accuracy: 0.73 Avg loss: 1.82\n",
      "Training Results - Epoch: 6  Avg accuracy: 0.76 Avg loss: 1.79\n",
      "Validation Results - Epoch: 6  Avg accuracy: 0.79 Avg loss: 1.77\n",
      "Training Results - Epoch: 7  Avg accuracy: 0.80 Avg loss: 1.75\n",
      "Validation Results - Epoch: 7  Avg accuracy: 0.76 Avg loss: 1.78\n",
      "Training Results - Epoch: 8  Avg accuracy: 0.82 Avg loss: 1.75\n",
      "Validation Results - Epoch: 8  Avg accuracy: 0.80 Avg loss: 1.76\n",
      "Training Results - Epoch: 9  Avg accuracy: 0.82 Avg loss: 1.74\n",
      "Validation Results - Epoch: 9  Avg accuracy: 0.81 Avg loss: 1.75\n",
      "Training Results - Epoch: 10  Avg accuracy: 0.82 Avg loss: 1.74\n",
      "Validation Results - Epoch: 10  Avg accuracy: 0.80 Avg loss: 1.76\n",
      "Training Results - Epoch: 11  Avg accuracy: 0.83 Avg loss: 1.72\n",
      "Validation Results - Epoch: 11  Avg accuracy: 0.83 Avg loss: 1.73\n",
      "Training Results - Epoch: 12  Avg accuracy: 0.83 Avg loss: 1.72\n",
      "Validation Results - Epoch: 12  Avg accuracy: 0.81 Avg loss: 1.73\n",
      "Training Results - Epoch: 13  Avg accuracy: 0.83 Avg loss: 1.72\n",
      "Validation Results - Epoch: 13  Avg accuracy: 0.81 Avg loss: 1.73\n",
      "Training Results - Epoch: 14  Avg accuracy: 0.83 Avg loss: 1.72\n",
      "Validation Results - Epoch: 14  Avg accuracy: 0.90 Avg loss: 1.68\n",
      "Training Results - Epoch: 15  Avg accuracy: 0.86 Avg loss: 1.69\n",
      "Validation Results - Epoch: 15  Avg accuracy: 0.89 Avg loss: 1.67\n",
      "Training Results - Epoch: 16  Avg accuracy: 0.85 Avg loss: 1.70\n",
      "Validation Results - Epoch: 16  Avg accuracy: 0.86 Avg loss: 1.69\n",
      "Training Results - Epoch: 17  Avg accuracy: 0.85 Avg loss: 1.70\n",
      "Validation Results - Epoch: 17  Avg accuracy: 0.86 Avg loss: 1.68\n",
      "Training Results - Epoch: 18  Avg accuracy: 0.85 Avg loss: 1.71\n",
      "Validation Results - Epoch: 18  Avg accuracy: 0.88 Avg loss: 1.69\n",
      "Training Results - Epoch: 19  Avg accuracy: 0.87 Avg loss: 1.68\n",
      "Validation Results - Epoch: 19  Avg accuracy: 0.81 Avg loss: 1.73\n",
      "Training Results - Epoch: 20  Avg accuracy: 0.87 Avg loss: 1.69\n",
      "Validation Results - Epoch: 20  Avg accuracy: 0.84 Avg loss: 1.69\n",
      "Training Results - Epoch: 21  Avg accuracy: 0.87 Avg loss: 1.68\n",
      "Validation Results - Epoch: 21  Avg accuracy: 0.89 Avg loss: 1.67\n",
      "Training Results - Epoch: 22  Avg accuracy: 0.86 Avg loss: 1.69\n",
      "Validation Results - Epoch: 22  Avg accuracy: 0.89 Avg loss: 1.68\n",
      "Training Results - Epoch: 23  Avg accuracy: 0.86 Avg loss: 1.69\n",
      "Validation Results - Epoch: 23  Avg accuracy: 0.88 Avg loss: 1.68\n",
      "Training Results - Epoch: 24  Avg accuracy: 0.88 Avg loss: 1.67\n",
      "Validation Results - Epoch: 24  Avg accuracy: 0.88 Avg loss: 1.67\n",
      "Training Results - Epoch: 25  Avg accuracy: 0.87 Avg loss: 1.69\n",
      "Validation Results - Epoch: 25  Avg accuracy: 0.88 Avg loss: 1.69\n"
     ]
    }
   ],
   "source": [
    "C =_C(input_h_w=64)\n",
    "criterion = nn.CrossEntropyLoss()\n",
    "if torch.cuda.is_available():\n",
    "    C = C.cuda()\n",
    "    criterion = criterion.cuda()\n",
    "\n",
    "C_optimizer = optim.Adam(C.parameters(), lr=0.0003, betas=(0.5, 0.999))\n",
    "vis = visdom.Visdom()\n",
    "log_interval = 10\n",
    "\n",
    "trainer = create_supervised_trainer(C, C_optimizer, F.cross_entropy)\n",
    "evaluator = create_supervised_evaluator(C, metrics={'accuracy': Accuracy(),\n",
    "                                                     'ce_ll': Loss(F.cross_entropy)},\n",
    "                                        device='cpu')\n",
    "\n",
    "train_avg_loss_window = create_plot_window(vis, '#Iterations', 'Loss', \n",
    "                                                 'Training Average Loss')\n",
    "train_avg_accuracy_window = create_plot_window(vis, '#Iterations', 'Accuracy',\n",
    "                                                     'Training Average Accuracy')\n",
    "val_avg_loss_window = create_plot_window(vis, '#Epochs', 'Loss',\n",
    "                                               'Validation Average Loss')\n",
    "val_avg_accuracy_window = create_plot_window(vis, '#Epochs', 'Accuracy',\n",
    "                                                   'Validation Average Accuracy')\n",
    "\n",
    "\n",
    "\n",
    "@trainer.on(Events.EPOCH_COMPLETED)\n",
    "def log_training_results(engine):\n",
    "    evaluator.run(train_loader)\n",
    "    metrics = evaluator.state.metrics\n",
    "    avg_accuracy = metrics['accuracy']\n",
    "    avg_nll = metrics['ce_ll']\n",
    "    print(\"Training Results - Epoch: {}  Avg accuracy: {:.2f} Avg loss: {:.2f}\"\n",
    "          .format(engine.state.epoch, avg_accuracy, avg_nll))\n",
    "    vis.line(X=np.array([engine.state.epoch]), Y=np.array([avg_accuracy]),\n",
    "             win=train_avg_accuracy_window, update='append')\n",
    "    vis.line(X=np.array([engine.state.epoch]), Y=np.array([avg_nll]),\n",
    "             win=train_avg_loss_window, update='append')\n",
    "\n",
    "@trainer.on(Events.EPOCH_COMPLETED)\n",
    "def log_validation_results(engine):\n",
    "    evaluator.run(val_loader)\n",
    "    metrics = evaluator.state.metrics\n",
    "    avg_accuracy = metrics['accuracy']\n",
    "    avg_nll = metrics['ce_ll']\n",
    "    print(\"Validation Results - Epoch: {}  Avg accuracy: {:.2f} Avg loss: {:.2f}\"\n",
    "          .format(engine.state.epoch, avg_accuracy, avg_nll))\n",
    "    vis.line(X=np.array([engine.state.epoch]), Y=np.array([avg_accuracy]),\n",
    "             win=val_avg_accuracy_window, update='append')\n",
    "    vis.line(X=np.array([engine.state.epoch]), Y=np.array([avg_nll]),\n",
    "             win=val_avg_loss_window, update='append')\n",
    "\n",
    "trainer.run(train_loader, max_epochs=100)"
   ]
  },
  {
   "cell_type": "markdown",
   "id": "46138bc3",
   "metadata": {},
   "source": [
    "### A simple loop here with Pytorch"
   ]
  },
  {
   "cell_type": "code",
   "execution_count": null,
   "id": "375c7165",
   "metadata": {},
   "outputs": [],
   "source": [
    "# todo"
   ]
  },
  {
   "cell_type": "markdown",
   "id": "eb7ad9e0",
   "metadata": {},
   "source": [
    "### Evaluation over the test sample"
   ]
  },
  {
   "cell_type": "code",
   "execution_count": null,
   "id": "d5d502ee",
   "metadata": {},
   "outputs": [],
   "source": [
    "# todo"
   ]
  }
 ],
 "metadata": {
  "kernelspec": {
   "display_name": "Python 3 (ipykernel)",
   "language": "python",
   "name": "python3"
  },
  "language_info": {
   "codemirror_mode": {
    "name": "ipython",
    "version": 3
   },
   "file_extension": ".py",
   "mimetype": "text/x-python",
   "name": "python",
   "nbconvert_exporter": "python",
   "pygments_lexer": "ipython3",
   "version": "3.9.16"
  }
 },
 "nbformat": 4,
 "nbformat_minor": 5
}
