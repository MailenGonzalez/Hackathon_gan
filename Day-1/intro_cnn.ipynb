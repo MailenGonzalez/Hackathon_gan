{
 "cells": [
  {
   "cell_type": "markdown",
   "id": "f3bdf164-0186-4856-ac35-32dfc12422ea",
   "metadata": {},
   "source": [
    "## Introducción a CNNs\n",
    "\n",
    "### Referencias\n",
    "- LeCun, Y., Bengio, Y. and Hinton, G., 2015. [Deep Learning](https://www.nature.com/articles/nature14539). nature, 521(7553), pp.436-444.\n",
    "- [Ignite documentation](https://pytorch-ignite.ai/)\n",
    "- [PyTorch tutorials](https://pytorch.org/tutorials/) \n",
    "- [torchmetrics examples](https://torchmetrics.readthedocs.io/en/stable/pages/quickstart.html)\n",
    "- [visdom](https://github.com/fossasia/visdom)\n",
    "\n",
    "\n",
    "![pytorch cheatsheet](./figs/pytorch-cheat.jpeg \"pytorch cheatsheet\")\n",
    "\n",
    "Figure from [pytorch forum](https://discuss.pytorch.org/t/pytorch-cheat-sheet/72016)"
   ]
  },
  {
   "cell_type": "markdown",
   "id": "f956227c-0b45-4866-84e1-cb8738a5ad87",
   "metadata": {},
   "source": [
    "### Que pasos debemos seguir para entrenar una CNN?\n",
    "- Cargar datos, transformarlos en formato necesario para pytorch. $t_{train}$ va a tener transformaciones diferentes a $t_{test}$, por que? \n",
    "- A los datos de entrenamiento debemos dividirlos una vez mas para usar elementos de validación durante el entrenamiento.\n",
    "- Definir arquitectura de nuestra red (Ver models.py)\n",
    "- Definir métodos funciones de error, optimizador y métricas de evaluación."
   ]
  },
  {
   "cell_type": "code",
   "execution_count": 1,
   "id": "bfa8e11a-5203-488a-8770-022643eb6c81",
   "metadata": {},
   "outputs": [],
   "source": [
    "import torch\n",
    "import torch.nn as nn\n",
    "from torch.utils.data import DataLoader, SubsetRandomSampler, ConcatDataset\n",
    "from torchvision.datasets import MNIST\n",
    "from torchvision.models import resnet18\n",
    "from torchvision.transforms import Compose, Normalize, ToTensor\n",
    "from sklearn.model_selection import KFold\n",
    "import numpy as np\n",
    "from ignite.engine import Events, create_supervised_trainer, create_supervised_evaluator\n",
    "from ignite.metrics import Accuracy, Loss, RunningAverage"
   ]
  },
  {
   "cell_type": "markdown",
   "id": "cda72361-feb0-4adf-b02e-49f33838733a",
   "metadata": {},
   "source": [
    "#### Carga de datos, pre-procesamiento y definición de lotes"
   ]
  },
  {
   "cell_type": "code",
   "execution_count": 2,
   "id": "16556eba-304f-415e-b617-3643abb730aa",
   "metadata": {},
   "outputs": [],
   "source": [
    "from torchvision import datasets\n",
    "from torchvision import transforms as tfs\n",
    "from torch.utils import data\n",
    "import PIL\n",
    "\n",
    "transforms_train = [\n",
    "    tfs.RandomHorizontalFlip(p=0.7),\n",
    "    tfs.RandomAffine(0, scale=(0.7, 1.0)),\n",
    "    tfs.Resize((64, 64)),\n",
    "    tfs.Grayscale(1),\n",
    "    tfs.Lambda(lambda x: PIL.ImageOps.invert(x)),\n",
    "    tfs.ToTensor(),\n",
    "]\n",
    "\n",
    "transforms_test = [\n",
    "    tfs.RandomHorizontalFlip(p=0.7),\n",
    "    tfs.RandomAffine(0, scale=(0.7, 1.0)),\n",
    "    tfs.Resize((64, 64)),\n",
    "    tfs.Grayscale(1),\n",
    "    tfs.Lambda(lambda x: PIL.ImageOps.invert(x)),\n",
    "    tfs.ToTensor(),\n",
    "]\n",
    "\n",
    "train_dataset = datasets.ImageFolder(\n",
    "    \"../data/train/\", transform=tfs.Compose(transforms_train)\n",
    ")\n",
    "\n",
    "test_dataset = datasets.ImageFolder(\n",
    "    \"../data/test/\", transform=tfs.Compose(transforms_test)\n",
    ")"
   ]
  },
  {
   "cell_type": "code",
   "execution_count": 7,
   "id": "c224727d-6ac6-441e-be8c-3c9572b010ed",
   "metadata": {},
   "outputs": [],
   "source": [
    "def setup_dataflow(dataset, train_idx, val_idx):\n",
    "    \"\"\"Funcion de inicialización para el dataset\"\"\"\n",
    "    train_sampler = SubsetRandomSampler(train_idx)\n",
    "    val_sampler = SubsetRandomSampler(val_idx)\n",
    "\n",
    "    train_loader = DataLoader(\n",
    "        dataset, batch_size=64, sampler=train_sampler, drop_last=True\n",
    "    )\n",
    "    val_loader = DataLoader(dataset, batch_size=64, sampler=val_sampler, drop_last=True)\n",
    "\n",
    "    return train_loader, val_loader"
   ]
  },
  {
   "cell_type": "code",
   "execution_count": null,
   "id": "e7c008e7",
   "metadata": {},
   "outputs": [],
   "source": [
    "train_loader, val_loader = setup_dataflow(train_dataset, train_idx, val_idx)"
   ]
  },
  {
   "cell_type": "code",
   "execution_count": 11,
   "id": "fcd9edc9-ed62-477a-83cb-7afa59863f32",
   "metadata": {},
   "outputs": [],
   "source": [
    "splits = data.random_split(train_dataset, [867, 96])\n",
    "train_idx, val_idx = splits[0].indices, splits[1].indices"
   ]
  },
  {
   "cell_type": "markdown",
   "id": "e300ce4e-5502-4abb-b250-7ddb8b13e13d",
   "metadata": {},
   "source": [
    "#### Ahora tenemos que definir modelo, función de error, optimizador, etc.\n"
   ]
  },
  {
   "cell_type": "code",
   "execution_count": 3,
   "id": "d9500d95-2b05-4489-ac70-7a1f14abf14d",
   "metadata": {},
   "outputs": [],
   "source": [
    "import torch.optim as optim\n",
    "from torch import nn\n",
    "from models import _C\n",
    "from ignite.engine import Events, create_supervised_trainer, create_supervised_evaluator\n",
    "from ignite.metrics import Accuracy, Loss\n",
    "import torch.nn.functional as F\n",
    "import torch\n",
    "from aux import create_plot_window\n",
    "import numpy as np\n",
    "\n",
    "from ignite.contrib.handlers.tensorboard_logger import (\n",
    "    global_step_from_engine,\n",
    "    GradsHistHandler,\n",
    "    GradsScalarHandler,\n",
    "    TensorboardLogger,\n",
    "    WeightsHistHandler,\n",
    "    WeightsScalarHandler,\n",
    ")"
   ]
  },
  {
   "cell_type": "code",
   "execution_count": 4,
   "id": "2096dc82-3a49-4f6f-b4be-527b7872adca",
   "metadata": {},
   "outputs": [
    {
     "name": "stdout",
     "output_type": "stream",
     "text": [
      "Dispositivo disponible: cuda\n"
     ]
    }
   ],
   "source": [
    "device = torch.device(\"cuda\" if torch.cuda.is_available() else \"cpu\")\n",
    "print(f\"Dispositivo disponible: {device}\")"
   ]
  },
  {
   "cell_type": "markdown",
   "id": "762d560e-f0a4-40e6-a8d8-72662606a7df",
   "metadata": {},
   "source": [
    "#### Cual es la arquitectura de nuestro modelo?"
   ]
  },
  {
   "cell_type": "code",
   "execution_count": null,
   "id": "193efe63",
   "metadata": {},
   "outputs": [],
   "source": [
    "%load models.py"
   ]
  },
  {
   "cell_type": "code",
   "execution_count": 6,
   "id": "0125722b-b6c4-4853-9e29-93c278da4f9b",
   "metadata": {},
   "outputs": [],
   "source": [
    "def initialize():\n",
    "    \"\"\"Funcion de inicialización. Creamos el modelo, definimos el optimizador y la función de perdida\"\"\"\n",
    "    model = _C(input_h_w=64).to(device)\n",
    "    optimizer = optim.Adam(model.parameters(), lr=0.0002, betas=(0.5, 0.999))\n",
    "    criterion = nn.CrossEntropyLoss()\n",
    "\n",
    "    return model, optimizer, criterion"
   ]
  },
  {
   "cell_type": "code",
   "execution_count": 8,
   "id": "91850398-3cdc-4c59-93f7-072dc1c41888",
   "metadata": {},
   "outputs": [],
   "source": [
    "from datetime import datetime\n",
    "from torch.utils.tensorboard import SummaryWriter"
   ]
  },
  {
   "cell_type": "markdown",
   "id": "e0b7c0fe-08c0-47ab-8a51-11e3d96e0c93",
   "metadata": {},
   "source": [
    "#### Ignite para entrenamiento supervisado de la red\n",
    "No se olviden de ver el dashboard the TensorBoard en [http://localhost:6006/](http://localhost:6006/)\n",
    "Para iniciar el servidor del dashboard:\n",
    "\n",
    "`tensorboard --logdir=./output --port 6006  --host 0.0.0.0 --load_fast=false`"
   ]
  },
  {
   "cell_type": "code",
   "execution_count": 10,
   "id": "de5bffa9-371b-4666-aaf8-e9d83e5f545c",
   "metadata": {},
   "outputs": [],
   "source": [
    "def train_model(train_loader, val_loader, max_epochs=20, mode=\"training\"):\n",
    "    train_results = []\n",
    "    val_results = []\n",
    "\n",
    "    model, optimizer, criterion = initialize()\n",
    "\n",
    "    now = datetime.now()\n",
    "    logdir = \"output/\" + now.strftime(\"%Y%m%d-%H%M%S\") + \"/\"\n",
    "    writer = SummaryWriter(log_dir=logdir, flush_secs=1)\n",
    "\n",
    "    trainer = create_supervised_trainer(model, optimizer, criterion, device=device)\n",
    "    evaluator = create_supervised_evaluator(\n",
    "        model,\n",
    "        metrics={\"Accuracy\": Accuracy(), \"Loss\": Loss(criterion)},\n",
    "        device=device,\n",
    "    )\n",
    "\n",
    "    @trainer.on(Events.EPOCH_COMPLETED)\n",
    "    def log_training_results(trainer):\n",
    "        evaluator.run(train_loader)\n",
    "        metrics = evaluator.state.metrics.copy()\n",
    "        train_results.append(metrics)\n",
    "        print(\n",
    "            f\"Training Results - Epoch[{trainer.state.epoch}] Avg accuracy: {metrics['Accuracy']:.2f} Avg loss: {metrics['Loss']:.2f}\"\n",
    "        )\n",
    "\n",
    "    @trainer.on(Events.EPOCH_COMPLETED)\n",
    "    def log_validation_results(trainer):\n",
    "        evaluator.run(val_loader)\n",
    "        metrics = evaluator.state.metrics.copy()\n",
    "        val_results.append(metrics)\n",
    "\n",
    "        writer.add_scalars(\n",
    "            f\"{mode}/Accuracy\",\n",
    "            {\n",
    "                \"val\": val_results[trainer.state.epoch - 1][\"Accuracy\"],\n",
    "                \"train\": train_results[trainer.state.epoch - 1][\"Accuracy\"],\n",
    "            },\n",
    "            trainer.state.epoch,\n",
    "        )\n",
    "\n",
    "        writer.add_scalars(\n",
    "            f\"{mode}/Loss\",\n",
    "            {\n",
    "                \"val\": val_results[trainer.state.epoch - 1][\"Loss\"],\n",
    "                \"train\": train_results[trainer.state.epoch - 1][\"Loss\"],\n",
    "            },\n",
    "            trainer.state.epoch,\n",
    "        )\n",
    "\n",
    "    trainer.run(train_loader, max_epochs=max_epochs)\n",
    "    writer.close()\n",
    "\n",
    "    return model, train_results, val_results"
   ]
  },
  {
   "cell_type": "code",
   "execution_count": 12,
   "id": "991e1ffb-3c08-4009-8ce5-6552d726a35b",
   "metadata": {
    "scrolled": true
   },
   "outputs": [
    {
     "name": "stdout",
     "output_type": "stream",
     "text": [
      "Training Results - Epoch[1] Avg accuracy: 0.35 Avg loss: 2.28\n",
      "Training Results - Epoch[2] Avg accuracy: 0.62 Avg loss: 2.10\n",
      "Training Results - Epoch[3] Avg accuracy: 0.72 Avg loss: 1.90\n",
      "Training Results - Epoch[4] Avg accuracy: 0.77 Avg loss: 1.79\n",
      "Training Results - Epoch[5] Avg accuracy: 0.80 Avg loss: 1.76\n",
      "Training Results - Epoch[6] Avg accuracy: 0.80 Avg loss: 1.75\n",
      "Training Results - Epoch[7] Avg accuracy: 0.80 Avg loss: 1.75\n",
      "Training Results - Epoch[8] Avg accuracy: 0.80 Avg loss: 1.75\n",
      "Training Results - Epoch[9] Avg accuracy: 0.81 Avg loss: 1.74\n",
      "Training Results - Epoch[10] Avg accuracy: 0.83 Avg loss: 1.72\n",
      "Training Results - Epoch[11] Avg accuracy: 0.85 Avg loss: 1.71\n",
      "Training Results - Epoch[12] Avg accuracy: 0.84 Avg loss: 1.71\n",
      "Training Results - Epoch[13] Avg accuracy: 0.84 Avg loss: 1.70\n",
      "Training Results - Epoch[14] Avg accuracy: 0.85 Avg loss: 1.70\n",
      "Training Results - Epoch[15] Avg accuracy: 0.85 Avg loss: 1.70\n",
      "Training Results - Epoch[16] Avg accuracy: 0.87 Avg loss: 1.68\n",
      "Training Results - Epoch[17] Avg accuracy: 0.85 Avg loss: 1.69\n",
      "Training Results - Epoch[18] Avg accuracy: 0.87 Avg loss: 1.68\n",
      "Training Results - Epoch[19] Avg accuracy: 0.88 Avg loss: 1.67\n",
      "Training Results - Epoch[20] Avg accuracy: 0.88 Avg loss: 1.68\n",
      "Training Results - Epoch[21] Avg accuracy: 0.88 Avg loss: 1.67\n",
      "Training Results - Epoch[22] Avg accuracy: 0.88 Avg loss: 1.67\n",
      "Training Results - Epoch[23] Avg accuracy: 0.90 Avg loss: 1.66\n",
      "Training Results - Epoch[24] Avg accuracy: 0.91 Avg loss: 1.65\n",
      "Training Results - Epoch[25] Avg accuracy: 0.89 Avg loss: 1.66\n",
      "Training Results - Epoch[26] Avg accuracy: 0.90 Avg loss: 1.65\n",
      "Training Results - Epoch[27] Avg accuracy: 0.90 Avg loss: 1.65\n",
      "Training Results - Epoch[28] Avg accuracy: 0.90 Avg loss: 1.65\n",
      "Training Results - Epoch[29] Avg accuracy: 0.89 Avg loss: 1.65\n",
      "Training Results - Epoch[30] Avg accuracy: 0.91 Avg loss: 1.65\n",
      "Training Results - Epoch[31] Avg accuracy: 0.89 Avg loss: 1.66\n",
      "Training Results - Epoch[32] Avg accuracy: 0.91 Avg loss: 1.64\n",
      "Training Results - Epoch[33] Avg accuracy: 0.90 Avg loss: 1.65\n",
      "Training Results - Epoch[34] Avg accuracy: 0.90 Avg loss: 1.65\n",
      "Training Results - Epoch[35] Avg accuracy: 0.91 Avg loss: 1.64\n",
      "Training Results - Epoch[36] Avg accuracy: 0.91 Avg loss: 1.64\n",
      "Training Results - Epoch[37] Avg accuracy: 0.92 Avg loss: 1.63\n",
      "Training Results - Epoch[38] Avg accuracy: 0.92 Avg loss: 1.63\n",
      "Training Results - Epoch[39] Avg accuracy: 0.93 Avg loss: 1.63\n",
      "Training Results - Epoch[40] Avg accuracy: 0.91 Avg loss: 1.64\n",
      "Training Results - Epoch[41] Avg accuracy: 0.92 Avg loss: 1.63\n",
      "Training Results - Epoch[42] Avg accuracy: 0.91 Avg loss: 1.64\n",
      "Training Results - Epoch[43] Avg accuracy: 0.93 Avg loss: 1.62\n",
      "Training Results - Epoch[44] Avg accuracy: 0.92 Avg loss: 1.63\n",
      "Training Results - Epoch[45] Avg accuracy: 0.92 Avg loss: 1.63\n",
      "Training Results - Epoch[46] Avg accuracy: 0.92 Avg loss: 1.63\n",
      "Training Results - Epoch[47] Avg accuracy: 0.93 Avg loss: 1.63\n",
      "Training Results - Epoch[48] Avg accuracy: 0.93 Avg loss: 1.62\n",
      "Training Results - Epoch[49] Avg accuracy: 0.93 Avg loss: 1.62\n",
      "Training Results - Epoch[50] Avg accuracy: 0.93 Avg loss: 1.62\n",
      "Training Results - Epoch[51] Avg accuracy: 0.93 Avg loss: 1.62\n",
      "Training Results - Epoch[52] Avg accuracy: 0.93 Avg loss: 1.62\n",
      "Training Results - Epoch[53] Avg accuracy: 0.94 Avg loss: 1.61\n",
      "Training Results - Epoch[54] Avg accuracy: 0.93 Avg loss: 1.62\n",
      "Training Results - Epoch[55] Avg accuracy: 0.92 Avg loss: 1.63\n",
      "Training Results - Epoch[56] Avg accuracy: 0.93 Avg loss: 1.62\n",
      "Training Results - Epoch[57] Avg accuracy: 0.94 Avg loss: 1.62\n",
      "Training Results - Epoch[58] Avg accuracy: 0.93 Avg loss: 1.61\n",
      "Training Results - Epoch[59] Avg accuracy: 0.94 Avg loss: 1.61\n",
      "Training Results - Epoch[60] Avg accuracy: 0.94 Avg loss: 1.61\n",
      "Training Results - Epoch[61] Avg accuracy: 0.93 Avg loss: 1.62\n",
      "Training Results - Epoch[62] Avg accuracy: 0.94 Avg loss: 1.61\n",
      "Training Results - Epoch[63] Avg accuracy: 0.94 Avg loss: 1.61\n",
      "Training Results - Epoch[64] Avg accuracy: 0.95 Avg loss: 1.60\n",
      "Training Results - Epoch[65] Avg accuracy: 0.94 Avg loss: 1.60\n",
      "Training Results - Epoch[66] Avg accuracy: 0.94 Avg loss: 1.61\n",
      "Training Results - Epoch[67] Avg accuracy: 0.95 Avg loss: 1.60\n",
      "Training Results - Epoch[68] Avg accuracy: 0.94 Avg loss: 1.60\n",
      "Training Results - Epoch[69] Avg accuracy: 0.93 Avg loss: 1.62\n",
      "Training Results - Epoch[70] Avg accuracy: 0.94 Avg loss: 1.61\n",
      "Training Results - Epoch[71] Avg accuracy: 0.94 Avg loss: 1.61\n",
      "Training Results - Epoch[72] Avg accuracy: 0.95 Avg loss: 1.59\n",
      "Training Results - Epoch[73] Avg accuracy: 0.93 Avg loss: 1.61\n",
      "Training Results - Epoch[74] Avg accuracy: 0.95 Avg loss: 1.60\n",
      "Training Results - Epoch[75] Avg accuracy: 0.94 Avg loss: 1.61\n",
      "Training Results - Epoch[76] Avg accuracy: 0.95 Avg loss: 1.60\n",
      "Training Results - Epoch[77] Avg accuracy: 0.95 Avg loss: 1.60\n",
      "Training Results - Epoch[78] Avg accuracy: 0.94 Avg loss: 1.61\n",
      "Training Results - Epoch[79] Avg accuracy: 0.94 Avg loss: 1.60\n",
      "Training Results - Epoch[80] Avg accuracy: 0.94 Avg loss: 1.60\n",
      "Training Results - Epoch[81] Avg accuracy: 0.95 Avg loss: 1.59\n",
      "Training Results - Epoch[82] Avg accuracy: 0.94 Avg loss: 1.60\n",
      "Training Results - Epoch[83] Avg accuracy: 0.95 Avg loss: 1.60\n",
      "Training Results - Epoch[84] Avg accuracy: 0.95 Avg loss: 1.60\n",
      "Training Results - Epoch[85] Avg accuracy: 0.96 Avg loss: 1.59\n",
      "Training Results - Epoch[86] Avg accuracy: 0.95 Avg loss: 1.60\n",
      "Training Results - Epoch[87] Avg accuracy: 0.96 Avg loss: 1.59\n",
      "Training Results - Epoch[88] Avg accuracy: 0.95 Avg loss: 1.60\n",
      "Training Results - Epoch[89] Avg accuracy: 0.95 Avg loss: 1.60\n",
      "Training Results - Epoch[90] Avg accuracy: 0.96 Avg loss: 1.59\n",
      "Training Results - Epoch[91] Avg accuracy: 0.96 Avg loss: 1.59\n",
      "Training Results - Epoch[92] Avg accuracy: 0.96 Avg loss: 1.59\n",
      "Training Results - Epoch[93] Avg accuracy: 0.95 Avg loss: 1.60\n",
      "Training Results - Epoch[94] Avg accuracy: 0.96 Avg loss: 1.59\n",
      "Training Results - Epoch[95] Avg accuracy: 0.95 Avg loss: 1.60\n",
      "Training Results - Epoch[96] Avg accuracy: 0.95 Avg loss: 1.59\n",
      "Training Results - Epoch[97] Avg accuracy: 0.96 Avg loss: 1.58\n",
      "Training Results - Epoch[98] Avg accuracy: 0.95 Avg loss: 1.59\n",
      "Training Results - Epoch[99] Avg accuracy: 0.96 Avg loss: 1.59\n",
      "Training Results - Epoch[100] Avg accuracy: 0.95 Avg loss: 1.60\n"
     ]
    }
   ],
   "source": [
    "final_model, train_results, val_results = train_model(train_loader, val_loader, 100)"
   ]
  },
  {
   "cell_type": "markdown",
   "id": "89b8c976-0b8a-4467-9a34-e19bfb15924d",
   "metadata": {},
   "source": [
    "## "
   ]
  },
  {
   "cell_type": "markdown",
   "id": "7a13d3c7-8909-4a07-a187-bb7f9a2a723a",
   "metadata": {},
   "source": [
    "#### Guardar arquitectura y pesos entrenados"
   ]
  },
  {
   "cell_type": "code",
   "execution_count": 13,
   "id": "d9dc384b-9522-4cd4-8305-24c65cccabcb",
   "metadata": {},
   "outputs": [],
   "source": [
    "torch.save(final_model.state_dict(), \"./weights/classifier.pkl\")"
   ]
  },
  {
   "cell_type": "markdown",
   "id": "f18401d3-14c1-44bb-9690-53fc6999fb57",
   "metadata": {},
   "source": [
    "#### Bonus track: Cómo seria el entrenamiento de la misma red sin Ignite ?"
   ]
  },
  {
   "cell_type": "markdown",
   "id": "09c02035",
   "metadata": {},
   "source": [
    "`\n",
    "epochs = 100\n",
    "\n",
    "for epoch in range(epochs):\n",
    "    running_loss = 0.0\n",
    "    for i, (inputs, label) in enumerate(train_loader, 0):\n",
    "        \n",
    "        C_optimizer.zero_grad()\n",
    "        inputs = inputs.to(device)\n",
    "\n",
    "        # Forward Pass\n",
    "        scores = C(inputs)\n",
    "        loss = criterion(scores, label)\n",
    "\n",
    "        # Backward Pass\n",
    "        loss.backward()\n",
    "        C_optimizer.step()\n",
    "\n",
    "        running_loss += loss.data\n",
    "        if i % 64 == 63:  # print every 64 mini-batches\n",
    "            print(\"[%d, %5d] loss: %.3f\" % (epoch + 1, i + 1, running_loss / 64))\n",
    "            running_loss = 0.0\n",
    "`"
   ]
  },
  {
   "cell_type": "markdown",
   "id": "fb5454d4-b398-4cf2-8a12-cb57de6aab9b",
   "metadata": {},
   "source": [
    "#### Como recuperamos los pesos entranados? "
   ]
  },
  {
   "cell_type": "code",
   "execution_count": 25,
   "id": "f2586f09-367a-4d79-bc64-69a9484d77f0",
   "metadata": {},
   "outputs": [],
   "source": [
    "final_model = _C(input_h_w=64).to(device)\n",
    "final_model.load_state_dict(torch.load(\"./weights/classifier.pkl\"))\n",
    "final_model = final_model.eval()"
   ]
  },
  {
   "cell_type": "markdown",
   "id": "6744429c-7453-4fa0-aa5f-ae6d3cd210ae",
   "metadata": {},
   "source": [
    "#### Visualizacion de funciones de error y metricas del modelo entrenado"
   ]
  },
  {
   "cell_type": "code",
   "execution_count": 26,
   "id": "95fa2077-f0a2-4c10-88e1-bdb5217337fa",
   "metadata": {},
   "outputs": [],
   "source": [
    "import matplotlib.pyplot as plt\n",
    "\n",
    "plt.style.use(\n",
    "    \"https://github.com/dhaitz/matplotlib-stylesheets/raw/master/pitayasmoothie-light.mplstyle\"\n",
    ")"
   ]
  },
  {
   "cell_type": "code",
   "execution_count": 27,
   "id": "0d1f7eb6-437f-4429-a420-605102ee9d91",
   "metadata": {},
   "outputs": [
    {
     "data": {
      "text/plain": [
       "<matplotlib.legend.Legend at 0x7f21f617ea90>"
      ]
     },
     "execution_count": 27,
     "metadata": {},
     "output_type": "execute_result"
    },
    {
     "data": {
      "image/png": "[encoded data removed]",
      "text/plain": [
       "<Figure size 640x480 with 1 Axes>"
      ]
     },
     "metadata": {},
     "output_type": "display_data"
    }
   ],
   "source": [
    "lossses_train = [t[\"Loss\"] for t in train_results]\n",
    "lossses_val = np.round([t[\"Loss\"] for t in val_results], 3)\n",
    "\n",
    "plt.plot(range(np.shape(lossses_train)[0]), lossses_train, \"-\", label=\"Train\")\n",
    "plt.plot(range(np.shape(lossses_val)[0]), lossses_val, \"-\", label=\"Val\")\n",
    "plt.title(\"Funcion de Perdida\")\n",
    "plt.xlabel(\"$Epoch$\", fontsize=15)\n",
    "plt.ylabel(\"$BCE$ Loss\", fontsize=15)\n",
    "plt.legend()"
   ]
  },
  {
   "cell_type": "code",
   "execution_count": 28,
   "id": "cd6175ca-c0c7-4413-9e30-2b0f9ce3a6d3",
   "metadata": {},
   "outputs": [
    {
     "data": {
      "text/plain": [
       "<matplotlib.legend.Legend at 0x7f21851cec40>"
      ]
     },
     "execution_count": 28,
     "metadata": {},
     "output_type": "execute_result"
    },
    {
     "data": {
      "image/png": "[encoded data removed]",
      "text/plain": [
       "<Figure size 640x480 with 1 Axes>"
      ]
     },
     "metadata": {},
     "output_type": "display_data"
    }
   ],
   "source": [
    "acc_train = [t[\"Accuracy\"] for t in train_results]\n",
    "acc_val = np.round([t[\"Accuracy\"] for t in val_results], 3)\n",
    "\n",
    "plt.plot(range(np.shape(acc_train)[0]), acc_train, \"-\", label=\"Train\")\n",
    "plt.plot(range(np.shape(acc_val)[0]), acc_val, \"-\", label=\"Val\")\n",
    "plt.title(\"Accuracy\")\n",
    "plt.xlabel(\"$Epoch$\", fontsize=15)\n",
    "plt.ylabel(\"$BCE$ Loss\", fontsize=15)\n",
    "plt.legend()"
   ]
  },
  {
   "cell_type": "markdown",
   "id": "8a123963-e0e0-46fa-ac1b-bf7511a436b2",
   "metadata": {},
   "source": [
    "#### Métricas sobre el conjunto de datos de evaluación"
   ]
  },
  {
   "cell_type": "code",
   "execution_count": 29,
   "id": "a410f53a-f729-4d75-ba24-0fa5d2b572b9",
   "metadata": {},
   "outputs": [],
   "source": [
    "test_loader = data.DataLoader(test_dataset, batch_size=64, shuffle=True)"
   ]
  },
  {
   "cell_type": "markdown",
   "id": "4c5b87a2-2ca8-42b6-b8c7-c4591695bc3d",
   "metadata": {},
   "source": [
    "##### Matriz de confusión"
   ]
  },
  {
   "cell_type": "code",
   "execution_count": 30,
   "id": "668dc284-66d7-4731-a0c2-33e0c6745397",
   "metadata": {},
   "outputs": [
    {
     "name": "stdout",
     "output_type": "stream",
     "text": [
      "[[ 9  0  0  0  0  0  0  0  0  0  0]\n",
      " [ 0 83  2  1  0  0  0  0  0  1  0]\n",
      " [ 0  0 25  0  0  1  0  0  0  0  0]\n",
      " [ 1  0  0  8  0  0  0  0  0  5  0]\n",
      " [ 0  0  0  3 12  0  0  1  1  3  0]\n",
      " [ 0  0  1  1  1  0  0  0  0  0  0]\n",
      " [ 0  1  0  0  0  0 14  1  0  0  0]\n",
      " [ 0  0  0  3  0  0  1  6  0  7  0]\n",
      " [ 0  2  2  0  1  0  0  0 15  0  0]\n",
      " [ 0  0  0  5  3  0  0  0  0 93  0]\n",
      " [ 1  0  0  0  1  0  0  0  0  2  2]]\n"
     ]
    }
   ],
   "source": [
    "import torchnet\n",
    "\n",
    "confusion_matrix = torchnet.meter.ConfusionMeter(11, normalized=True)\n",
    "\n",
    "for ii, data_ in enumerate(test_loader):\n",
    "    input_, label = data_\n",
    "    val_input = input_.to(device)  # .cuda()\n",
    "    val_label = label.type(torch.LongTensor).to(device)  # .cuda()\n",
    "    score = final_model(val_input)\n",
    "    confusion_matrix.add(score.data.squeeze(), label.type(torch.LongTensor))\n",
    "\n",
    "np.set_printoptions(precision=3)\n",
    "print(confusion_matrix.conf)"
   ]
  },
  {
   "cell_type": "markdown",
   "id": "6d86cda4-3deb-45ed-8ef8-4e86f30ca224",
   "metadata": {},
   "source": [
    "##### Recall, F1-Score, Precision"
   ]
  },
  {
   "cell_type": "code",
   "execution_count": 31,
   "id": "6fc67b1e-7c10-49d7-911d-c99a7857f7cf",
   "metadata": {},
   "outputs": [
    {
     "name": "stdout",
     "output_type": "stream",
     "text": [
      "              precision    recall  f1-score   support\n",
      "\n",
      "           0       1.00      0.90      0.95        10\n",
      "           1       0.97      0.98      0.97        86\n",
      "           2       0.92      0.89      0.91        27\n",
      "           3       0.64      0.36      0.46        25\n",
      "           4       0.80      0.73      0.76        22\n",
      "           5       0.33      0.33      0.33         3\n",
      "           6       0.94      0.94      0.94        16\n",
      "           7       0.47      0.62      0.53        13\n",
      "           8       0.70      0.93      0.80        15\n",
      "           9       0.82      0.86      0.84        97\n",
      "          10       0.50      0.60      0.55         5\n",
      "\n",
      "    accuracy                           0.83       319\n",
      "   macro avg       0.74      0.74      0.73       319\n",
      "weighted avg       0.84      0.83      0.83       319\n",
      "\n"
     ]
    }
   ],
   "source": [
    "from aux import iterations_test\n",
    "from sklearn import metrics\n",
    "\n",
    "y_real, y_pred = iterations_test(final_model, test_loader, device)\n",
    "print(metrics.classification_report(np.array(y_pred), np.array(y_real)))"
   ]
  },
  {
   "cell_type": "markdown",
   "id": "435fe8dc-a365-458c-b95d-4e096dc7f915",
   "metadata": {},
   "source": [
    "### Validación cruzada"
   ]
  },
  {
   "cell_type": "code",
   "execution_count": 32,
   "id": "9309c344-50ac-4b36-9612-f57d26604c2b",
   "metadata": {},
   "outputs": [],
   "source": [
    "dataset = ConcatDataset([train_dataset, test_dataset])"
   ]
  },
  {
   "cell_type": "code",
   "execution_count": 35,
   "id": "c9474a23-f7fd-4f3a-93b7-ed9d09f4a57f",
   "metadata": {},
   "outputs": [],
   "source": [
    "num_folds = 3\n",
    "splits = KFold(n_splits=num_folds, shuffle=True, random_state=42)"
   ]
  },
  {
   "cell_type": "code",
   "execution_count": 36,
   "id": "4d567d2a-8dcc-4a0b-81fa-05ef17a522db",
   "metadata": {
    "scrolled": true
   },
   "outputs": [
    {
     "name": "stdout",
     "output_type": "stream",
     "text": [
      "Fold 1\n",
      "Training Results - Epoch[1] Avg accuracy: 0.56 Avg loss: 2.24\n",
      "Training Results - Epoch[2] Avg accuracy: 0.63 Avg loss: 2.02\n",
      "Training Results - Epoch[3] Avg accuracy: 0.71 Avg loss: 1.92\n",
      "Training Results - Epoch[4] Avg accuracy: 0.75 Avg loss: 1.82\n",
      "Training Results - Epoch[5] Avg accuracy: 0.76 Avg loss: 1.79\n",
      "Training Results - Epoch[6] Avg accuracy: 0.77 Avg loss: 1.78\n",
      "Training Results - Epoch[7] Avg accuracy: 0.77 Avg loss: 1.78\n",
      "Training Results - Epoch[8] Avg accuracy: 0.80 Avg loss: 1.76\n",
      "Training Results - Epoch[9] Avg accuracy: 0.80 Avg loss: 1.75\n",
      "Training Results - Epoch[10] Avg accuracy: 0.80 Avg loss: 1.75\n",
      "Training Results - Epoch[11] Avg accuracy: 0.84 Avg loss: 1.72\n",
      "Training Results - Epoch[12] Avg accuracy: 0.83 Avg loss: 1.73\n",
      "Training Results - Epoch[13] Avg accuracy: 0.82 Avg loss: 1.73\n",
      "Training Results - Epoch[14] Avg accuracy: 0.84 Avg loss: 1.72\n",
      "Training Results - Epoch[15] Avg accuracy: 0.84 Avg loss: 1.72\n",
      "Training Results - Epoch[16] Avg accuracy: 0.84 Avg loss: 1.72\n",
      "Training Results - Epoch[17] Avg accuracy: 0.85 Avg loss: 1.70\n",
      "Training Results - Epoch[18] Avg accuracy: 0.85 Avg loss: 1.71\n",
      "Training Results - Epoch[19] Avg accuracy: 0.85 Avg loss: 1.70\n",
      "Training Results - Epoch[20] Avg accuracy: 0.85 Avg loss: 1.70\n",
      "Fold 2\n",
      "Training Results - Epoch[1] Avg accuracy: 0.50 Avg loss: 2.26\n",
      "Training Results - Epoch[2] Avg accuracy: 0.69 Avg loss: 2.07\n",
      "Training Results - Epoch[3] Avg accuracy: 0.74 Avg loss: 1.89\n",
      "Training Results - Epoch[4] Avg accuracy: 0.78 Avg loss: 1.79\n",
      "Training Results - Epoch[5] Avg accuracy: 0.78 Avg loss: 1.77\n",
      "Training Results - Epoch[6] Avg accuracy: 0.81 Avg loss: 1.74\n",
      "Training Results - Epoch[7] Avg accuracy: 0.82 Avg loss: 1.73\n",
      "Training Results - Epoch[8] Avg accuracy: 0.81 Avg loss: 1.74\n",
      "Training Results - Epoch[9] Avg accuracy: 0.84 Avg loss: 1.72\n",
      "Training Results - Epoch[10] Avg accuracy: 0.84 Avg loss: 1.71\n",
      "Training Results - Epoch[11] Avg accuracy: 0.85 Avg loss: 1.70\n",
      "Training Results - Epoch[12] Avg accuracy: 0.86 Avg loss: 1.70\n",
      "Training Results - Epoch[13] Avg accuracy: 0.86 Avg loss: 1.69\n",
      "Training Results - Epoch[14] Avg accuracy: 0.86 Avg loss: 1.69\n",
      "Training Results - Epoch[15] Avg accuracy: 0.85 Avg loss: 1.71\n",
      "Training Results - Epoch[16] Avg accuracy: 0.88 Avg loss: 1.67\n",
      "Training Results - Epoch[17] Avg accuracy: 0.87 Avg loss: 1.68\n",
      "Training Results - Epoch[18] Avg accuracy: 0.90 Avg loss: 1.66\n",
      "Training Results - Epoch[19] Avg accuracy: 0.89 Avg loss: 1.67\n",
      "Training Results - Epoch[20] Avg accuracy: 0.89 Avg loss: 1.67\n",
      "Fold 3\n",
      "Training Results - Epoch[1] Avg accuracy: 0.63 Avg loss: 2.27\n",
      "Training Results - Epoch[2] Avg accuracy: 0.72 Avg loss: 2.06\n",
      "Training Results - Epoch[3] Avg accuracy: 0.75 Avg loss: 1.88\n",
      "Training Results - Epoch[4] Avg accuracy: 0.76 Avg loss: 1.81\n",
      "Training Results - Epoch[5] Avg accuracy: 0.78 Avg loss: 1.77\n",
      "Training Results - Epoch[6] Avg accuracy: 0.79 Avg loss: 1.76\n",
      "Training Results - Epoch[7] Avg accuracy: 0.80 Avg loss: 1.75\n",
      "Training Results - Epoch[8] Avg accuracy: 0.82 Avg loss: 1.73\n",
      "Training Results - Epoch[9] Avg accuracy: 0.82 Avg loss: 1.73\n",
      "Training Results - Epoch[10] Avg accuracy: 0.82 Avg loss: 1.72\n",
      "Training Results - Epoch[11] Avg accuracy: 0.84 Avg loss: 1.72\n",
      "Training Results - Epoch[12] Avg accuracy: 0.82 Avg loss: 1.74\n",
      "Training Results - Epoch[13] Avg accuracy: 0.84 Avg loss: 1.72\n",
      "Training Results - Epoch[14] Avg accuracy: 0.85 Avg loss: 1.70\n",
      "Training Results - Epoch[15] Avg accuracy: 0.86 Avg loss: 1.69\n",
      "Training Results - Epoch[16] Avg accuracy: 0.86 Avg loss: 1.70\n",
      "Training Results - Epoch[17] Avg accuracy: 0.84 Avg loss: 1.71\n",
      "Training Results - Epoch[18] Avg accuracy: 0.86 Avg loss: 1.69\n",
      "Training Results - Epoch[19] Avg accuracy: 0.87 Avg loss: 1.68\n",
      "Training Results - Epoch[20] Avg accuracy: 0.86 Avg loss: 1.69\n"
     ]
    }
   ],
   "source": [
    "results_per_fold = []\n",
    "\n",
    "for fold_idx, (train_idx, val_idx) in enumerate(splits.split(np.arange(len(dataset)))):\n",
    "    nro_fold = fold_idx + 1\n",
    "    print(\"Fold {}\".format(nro_fold))\n",
    "\n",
    "    train_loader, val_loader = setup_dataflow(dataset, train_idx, val_idx)\n",
    "    model, train_results, val_results = train_model(\n",
    "        train_loader, val_loader, mode=\"Fold\"\n",
    "    )\n",
    "    results_per_fold.append([train_results, val_results])"
   ]
  },
  {
   "cell_type": "code",
   "execution_count": 37,
   "id": "5c435a8c-431c-4272-9212-2d99374a537f",
   "metadata": {},
   "outputs": [
    {
     "name": "stdout",
     "output_type": "stream",
     "text": [
      "Validation Results - Fold[1] Avg accuracy: 0.70 Avg loss: 1.92\n",
      "Validation Results - Fold[2] Avg accuracy: 0.70 Avg loss: 1.94\n",
      "Validation Results - Fold[3] Avg accuracy: 0.69 Avg loss: 1.93\n",
      "Model validation average for 3-folds: 0.70\n"
     ]
    }
   ],
   "source": [
    "acc_sum = 0\n",
    "for n_fold in range(len(results_per_fold)):\n",
    "    current_fold = results_per_fold[n_fold]\n",
    "    print(\n",
    "        f\"Validation Results - Fold[{n_fold + 1}] Avg accuracy: {current_fold[1][2]['Accuracy']:.2f} Avg loss: {current_fold[1][2]['Loss']:.2f}\"\n",
    "    )\n",
    "    acc_sum += current_fold[1][2][\"Accuracy\"]\n",
    "\n",
    "folds_mean = acc_sum / num_folds\n",
    "print(f\"Model validation average for {num_folds}-folds: {folds_mean :.2f}\")"
   ]
  },
  {
   "cell_type": "markdown",
   "id": "2f4562da-bd3d-4407-a6d6-c1cfcb8224b1",
   "metadata": {},
   "source": [
    "##  Ejercicios\n",
    "\n",
    "- Visualizar las funciones de error para distintos learning rates. Qué observan en los gráficos?\n",
    "- Visualizar las funciones de error para distintos tamaños de lotes. \n",
    "- Visualizar subconjunto de elementos del grupo de evaluación con la clasificación y su puntaje respectivo.\n",
    "- Comparar metricas de red entrenada en 10, 50 y 100 epochs. Qué diferencias observan?\n",
    "- Re-entrenar un modelo preentrando `from torchvision import  models` para clasificacion, comparar sus resultados."
   ]
  }
 ],
 "metadata": {
  "kernelspec": {
   "display_name": "Python 3 (ipykernel)",
   "language": "python",
   "name": "python3"
  },
  "language_info": {
   "codemirror_mode": {
    "name": "ipython",
    "version": 3
   },
   "file_extension": ".py",
   "mimetype": "text/x-python",
   "name": "python",
   "nbconvert_exporter": "python",
   "pygments_lexer": "ipython3",
   "version": "3.9.16"
  }
 },
 "nbformat": 4,
 "nbformat_minor": 5
}
