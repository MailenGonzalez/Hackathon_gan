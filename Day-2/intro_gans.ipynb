{
 "cells": [
  {
   "cell_type": "markdown",
   "id": "b9494779",
   "metadata": {},
   "source": [
    "## Introducción a GANs\n",
    "\n",
    "### Referencias\n",
    "- Goodfellow, I., Pouget-Abadie, J., Mirza, M., Xu, B., Warde-Farley, D., Ozair, S., Courville, A. and Bengio, Y., 2020. Generative adversarial networks. Communications of the ACM, 63(11), pp.139-144. [link](https://arxiv.org/abs/1406.2661)\n",
    "\n",
    "- ..."
   ]
  },
  {
   "cell_type": "markdown",
   "id": "ced8473b",
   "metadata": {},
   "source": [
    "### Que pasos debemos seguir para entrenar una GAN?\n",
    "- Cargar datos, transformarlos en formato necesario para pytorch. $t_{train}$ va a tener transformaciones diferentes a $t_{test}$, por que? \n",
    "- A los datos de entrenamiento debemos dividirlos una vez mas para usar elementos de validación durante el entrenamiento.\n",
    "- Definir arquitectura de nuestras redes, la red generadora ($G$), evaluadora ($D$) (Ver models.py)\n",
    "- Definir métodos funciones de error, optimizador y métricas de evaluación para el entrenamiento paralelo de ambas redes."
   ]
  },
  {
   "cell_type": "code",
   "execution_count": 1,
   "id": "bdcd67f8",
   "metadata": {},
   "outputs": [],
   "source": [
    "from torchvision import datasets\n",
    "from torchvision import transforms as tfs\n",
    "from torch.utils import data\n",
    "import PIL\n",
    "\n",
    "transforms_train = [\n",
    "    tfs.RandomHorizontalFlip(p=0.7),\n",
    "    tfs.RandomAffine(0, scale=(0.7, 1.0)),\n",
    "    tfs.Resize((32, 32)),\n",
    "    tfs.Grayscale(1),\n",
    "    tfs.Lambda(lambda x: PIL.ImageOps.invert(x)),\n",
    "    tfs.ToTensor(),\n",
    "]\n",
    "\n",
    "transforms_test = [\n",
    "    tfs.RandomHorizontalFlip(p=0.7),\n",
    "    tfs.RandomAffine(0, scale=(0.7, 1.0)),\n",
    "    tfs.Resize((32, 32)),\n",
    "    tfs.Grayscale(1),\n",
    "    tfs.Lambda(lambda x: PIL.ImageOps.invert(x)),\n",
    "    tfs.ToTensor(),\n",
    "]\n",
    "\n",
    "train_data = datasets.ImageFolder(\n",
    "    \"../data/train/\", transform=tfs.Compose(transforms_train)\n",
    ")\n",
    "\n",
    "test_data = datasets.ImageFolder(\n",
    "    \"../data/test/\", transform=tfs.Compose(transforms_test)\n",
    ")"
   ]
  },
  {
   "cell_type": "code",
   "execution_count": 2,
   "id": "c360802d",
   "metadata": {},
   "outputs": [],
   "source": [
    "train_loader = data.DataLoader(train_data, batch_size=64, shuffle=True)\n",
    "test_loader = data.DataLoader(test_data, batch_size=64, shuffle=True)"
   ]
  },
  {
   "cell_type": "code",
   "execution_count": 3,
   "id": "0fe2fd5f",
   "metadata": {},
   "outputs": [],
   "source": [
    "from models.generator import _G\n",
    "from models.discriminator import _D\n",
    "from models.gan import GAN\n",
    "import PIL.ImageOps"
   ]
  },
  {
   "cell_type": "code",
   "execution_count": 4,
   "id": "f0475db5",
   "metadata": {},
   "outputs": [
    {
     "name": "stdout",
     "output_type": "stream",
     "text": [
      "----------------------------------------------------------------\n",
      "        Layer (type)               Output Shape         Param #\n",
      "================================================================\n",
      "            Linear-1                 [-1, 1024]          66,560\n",
      "       BatchNorm1d-2                 [-1, 1024]           2,048\n",
      "              ReLU-3                 [-1, 1024]               0\n",
      "            Linear-4               [-1, 100352]     102,860,800\n",
      "       BatchNorm1d-5               [-1, 100352]         200,704\n",
      "              ReLU-6               [-1, 100352]               0\n",
      "   ConvTranspose2d-7           [-1, 64, 56, 56]         131,136\n",
      "       BatchNorm2d-8           [-1, 64, 56, 56]             128\n",
      "              ReLU-9           [-1, 64, 56, 56]               0\n",
      "  ConvTranspose2d-10          [-1, 1, 112, 112]           1,025\n",
      "          Sigmoid-11          [-1, 1, 112, 112]               0\n",
      "================================================================\n",
      "Total params: 103,262,401\n",
      "Trainable params: 103,262,401\n",
      "Non-trainable params: 0\n",
      "----------------------------------------------------------------\n",
      "Input size (MB): 0.00\n",
      "Forward/backward pass size (MB): 7.11\n",
      "Params size (MB): 393.91\n",
      "Estimated Total Size (MB): 401.02\n",
      "----------------------------------------------------------------\n"
     ]
    }
   ],
   "source": [
    "from torchsummary import summary\n",
    "\n",
    "G = _G(input_h_w=112, latent_v=64)\n",
    "summary(G, (64,))"
   ]
  },
  {
   "cell_type": "code",
   "execution_count": 5,
   "id": "637d0951",
   "metadata": {},
   "outputs": [
    {
     "name": "stdout",
     "output_type": "stream",
     "text": [
      "----------------------------------------------------------------\n",
      "        Layer (type)               Output Shape         Param #\n",
      "================================================================\n",
      "            Conv2d-1           [-1, 64, 56, 56]           1,088\n",
      "         LeakyReLU-2           [-1, 64, 56, 56]               0\n",
      "            Conv2d-3          [-1, 128, 28, 28]         131,200\n",
      "       BatchNorm2d-4          [-1, 128, 28, 28]             256\n",
      "         LeakyReLU-5          [-1, 128, 28, 28]               0\n",
      "            Linear-6                 [-1, 1024]     102,761,472\n",
      "       BatchNorm1d-7                 [-1, 1024]           2,048\n",
      "         LeakyReLU-8                 [-1, 1024]               0\n",
      "            Linear-9                    [-1, 1]           1,025\n",
      "          Sigmoid-10                    [-1, 1]               0\n",
      "================================================================\n",
      "Total params: 102,897,089\n",
      "Trainable params: 102,897,089\n",
      "Non-trainable params: 0\n",
      "----------------------------------------------------------------\n",
      "Input size (MB): 0.05\n",
      "Forward/backward pass size (MB): 5.38\n",
      "Params size (MB): 392.52\n",
      "Estimated Total Size (MB): 397.95\n",
      "----------------------------------------------------------------\n"
     ]
    }
   ],
   "source": [
    "D = _D(input_h_w=112)\n",
    "summary(D, (1, 112, 112))"
   ]
  },
  {
   "cell_type": "code",
   "execution_count": 7,
   "id": "bf78c84f",
   "metadata": {},
   "outputs": [
    {
     "name": "stdout",
     "output_type": "stream",
     "text": [
      "training start!!\n",
      "Avg one epoch time: 8.44, total 100 epochs time: 847.68\n",
      "Training finish!... save training results\n",
      "Training finished!\n"
     ]
    }
   ],
   "source": [
    "gan = GAN(epochs=100, input_h_w=32, data_loader=train_loader, gpu_mode=False)\n",
    "gan.train()\n",
    "print(\"Training finished!\")"
   ]
  },
  {
   "cell_type": "markdown",
   "id": "ebf78ce5",
   "metadata": {},
   "source": [
    "### Ejercicios\n",
    "- "
   ]
  }
 ],
 "metadata": {
  "kernelspec": {
   "display_name": "Python 3 (ipykernel)",
   "language": "python",
   "name": "python3"
  },
  "language_info": {
   "codemirror_mode": {
    "name": "ipython",
    "version": 3
   },
   "file_extension": ".py",
   "mimetype": "text/x-python",
   "name": "python",
   "nbconvert_exporter": "python",
   "pygments_lexer": "ipython3",
   "version": "3.9.16"
  }
 },
 "nbformat": 4,
 "nbformat_minor": 5
}
