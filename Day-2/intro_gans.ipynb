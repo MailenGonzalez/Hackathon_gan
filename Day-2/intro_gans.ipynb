{
 "cells": [
  {
   "cell_type": "markdown",
   "id": "b9494779",
   "metadata": {},
   "source": [
    "## Introducción a GANs\n",
    "\n",
    "### Referencias\n",
    "- Goodfellow, I., Pouget-Abadie, J., Mirza, M., Xu, B., Warde-Farley, D., Ozair, S., Courville, A. and Bengio, Y., 2020. Generative adversarial networks. Communications of the ACM, 63(11), pp.139-144. [link](https://arxiv.org/abs/1406.2661)\n",
    "\n",
    "- ..."
   ]
  },
  {
   "cell_type": "markdown",
   "id": "ced8473b",
   "metadata": {},
   "source": [
    "### Que pasos debemos seguir para entrenar una GAN?\n",
    "- Cargar datos, transformarlos en formato necesario para pytorch. $t_{train}$ va a tener transformaciones diferentes a $t_{test}$, por que? \n",
    "- A los datos de entrenamiento debemos dividirlos una vez mas para usar elementos de validación durante el entrenamiento.\n",
    "- Definir arquitectura de nuestras redes, la red generadora ($G$), evaluadora ($D$) (Ver models.py)\n",
    "- Definir métodos funciones de error, optimizador y métricas de evaluación para el entrenamiento paralelo de ambas redes."
   ]
  },
  {
   "cell_type": "code",
   "execution_count": 1,
   "id": "bdcd67f8",
   "metadata": {},
   "outputs": [],
   "source": [
    "from torchvision import datasets\n",
    "from torchvision import transforms as tfs\n",
    "from torch.utils import data\n",
    "import torchvision.utils as vutils\n",
    "\n",
    "import PIL\n",
    "\n",
    "transforms_train = [\n",
    "    tfs.RandomHorizontalFlip(p=0.7),\n",
    "    tfs.RandomAffine(0, scale=(0.7, 1.0), fill=255),\n",
    "    tfs.Resize((32, 32)),\n",
    "    tfs.Grayscale(1),\n",
    "    tfs.Lambda(lambda x: PIL.ImageOps.invert(x)),\n",
    "    tfs.ToTensor(),\n",
    "]\n",
    "\n",
    "transforms_test = [\n",
    "    tfs.RandomHorizontalFlip(p=0.7),\n",
    "    tfs.RandomAffine(0, scale=(0.7, 1.0), fill=255),\n",
    "    tfs.Resize((32, 32)),\n",
    "    tfs.Grayscale(1),\n",
    "    tfs.Lambda(lambda x: PIL.ImageOps.invert(x)),\n",
    "    tfs.ToTensor(),\n",
    "]\n",
    "\n",
    "train_data = datasets.ImageFolder(\n",
    "    \"../data/train/\", transform=tfs.Compose(transforms_train)\n",
    ")\n",
    "\n",
    "test_data = datasets.ImageFolder(\n",
    "    \"../data/test/\", transform=tfs.Compose(transforms_test)\n",
    ")"
   ]
  },
  {
   "cell_type": "code",
   "execution_count": 2,
   "id": "c360802d",
   "metadata": {},
   "outputs": [],
   "source": [
    "train_loader = data.DataLoader(train_data, batch_size=64, shuffle=True, drop_last=True)\n",
    "test_loader = data.DataLoader(test_data, batch_size=64, shuffle=True, drop_last=True)"
   ]
  },
  {
   "cell_type": "code",
   "execution_count": 3,
   "id": "faa0844e-ae82-4468-b8f1-619fee906c5b",
   "metadata": {},
   "outputs": [],
   "source": [
    "from torch.utils.data import ConcatDataset\n"
   ]
  },
  {
   "cell_type": "code",
   "execution_count": 4,
   "id": "419fcff4-10a7-4fd7-801b-163e1e1e7d2d",
   "metadata": {},
   "outputs": [],
   "source": [
    "dataset = ConcatDataset([train_data, test_data])\n",
    "train_loader = data.DataLoader(dataset, batch_size=64, shuffle=True, drop_last=True)"
   ]
  },
  {
   "cell_type": "markdown",
   "id": "9a0b1103-dfe7-467c-b7ca-f7f0c7d2c0da",
   "metadata": {},
   "source": [
    "### Que dispositivo tenemos disponible?"
   ]
  },
  {
   "cell_type": "code",
   "execution_count": 5,
   "id": "17830525-82f1-4e1a-9e2e-e9bf0c79efd4",
   "metadata": {},
   "outputs": [],
   "source": [
    "import torch\n",
    "import torch.nn as nn\n",
    "import torch.optim as optim"
   ]
  },
  {
   "cell_type": "code",
   "execution_count": 6,
   "id": "10231564-b77a-4a4f-8f6d-b3da5745c084",
   "metadata": {},
   "outputs": [
    {
     "name": "stdout",
     "output_type": "stream",
     "text": [
      "Dispositivo disponible: cuda\n"
     ]
    }
   ],
   "source": [
    "device = torch.device(\"cuda\" if torch.cuda.is_available() else \"cpu\")\n",
    "print(f'Dispositivo disponible: {device}')"
   ]
  },
  {
   "cell_type": "code",
   "execution_count": 7,
   "id": "0fe2fd5f",
   "metadata": {},
   "outputs": [],
   "source": [
    "from models.generator import _G\n",
    "from models.discriminator import _D\n",
    "from models.gan import GAN\n",
    "import PIL.ImageOps"
   ]
  },
  {
   "cell_type": "code",
   "execution_count": 8,
   "id": "f0475db5",
   "metadata": {},
   "outputs": [
    {
     "name": "stdout",
     "output_type": "stream",
     "text": [
      "----------------------------------------------------------------\n",
      "        Layer (type)               Output Shape         Param #\n",
      "================================================================\n",
      "            Linear-1                 [-1, 1024]          66,560\n",
      "       BatchNorm1d-2                 [-1, 1024]           2,048\n",
      "              ReLU-3                 [-1, 1024]               0\n",
      "            Linear-4               [-1, 100352]     102,860,800\n",
      "       BatchNorm1d-5               [-1, 100352]         200,704\n",
      "              ReLU-6               [-1, 100352]               0\n",
      "   ConvTranspose2d-7           [-1, 64, 56, 56]         131,136\n",
      "       BatchNorm2d-8           [-1, 64, 56, 56]             128\n",
      "              ReLU-9           [-1, 64, 56, 56]               0\n",
      "  ConvTranspose2d-10          [-1, 1, 112, 112]           1,025\n",
      "          Sigmoid-11          [-1, 1, 112, 112]               0\n",
      "================================================================\n",
      "Total params: 103,262,401\n",
      "Trainable params: 103,262,401\n",
      "Non-trainable params: 0\n",
      "----------------------------------------------------------------\n",
      "Input size (MB): 0.00\n",
      "Forward/backward pass size (MB): 7.11\n",
      "Params size (MB): 393.91\n",
      "Estimated Total Size (MB): 401.02\n",
      "----------------------------------------------------------------\n"
     ]
    }
   ],
   "source": [
    "from torchsummary import summary\n",
    "\n",
    "G = _G(input_h_w=112, latent_v=64).to(device)\n",
    "summary(G, (64,))"
   ]
  },
  {
   "cell_type": "code",
   "execution_count": 9,
   "id": "637d0951",
   "metadata": {},
   "outputs": [
    {
     "name": "stdout",
     "output_type": "stream",
     "text": [
      "----------------------------------------------------------------\n",
      "        Layer (type)               Output Shape         Param #\n",
      "================================================================\n",
      "            Conv2d-1           [-1, 64, 56, 56]           1,088\n",
      "         LeakyReLU-2           [-1, 64, 56, 56]               0\n",
      "            Conv2d-3          [-1, 128, 28, 28]         131,200\n",
      "       BatchNorm2d-4          [-1, 128, 28, 28]             256\n",
      "         LeakyReLU-5          [-1, 128, 28, 28]               0\n",
      "            Linear-6                 [-1, 1024]     102,761,472\n",
      "       BatchNorm1d-7                 [-1, 1024]           2,048\n",
      "         LeakyReLU-8                 [-1, 1024]               0\n",
      "            Linear-9                    [-1, 1]           1,025\n",
      "          Sigmoid-10                    [-1, 1]               0\n",
      "================================================================\n",
      "Total params: 102,897,089\n",
      "Trainable params: 102,897,089\n",
      "Non-trainable params: 0\n",
      "----------------------------------------------------------------\n",
      "Input size (MB): 0.05\n",
      "Forward/backward pass size (MB): 5.38\n",
      "Params size (MB): 392.52\n",
      "Estimated Total Size (MB): 397.95\n",
      "----------------------------------------------------------------\n"
     ]
    }
   ],
   "source": [
    "D = _D(input_h_w=112).to(device)\n",
    "summary(D, (1, 112, 112))"
   ]
  },
  {
   "cell_type": "code",
   "execution_count": 10,
   "id": "209757e2-358a-4f2b-8458-a7d562610406",
   "metadata": {},
   "outputs": [],
   "source": [
    "def initialize():\n",
    "    '''Funcion de inicialización. Creamos el modelo, definimos el optimizador y la función de perdida'''\n",
    "    D = _D(input_h_w=32).to(device)\n",
    "    G = _G(input_h_w=32, latent_v=64).to(device)\n",
    "    optimizer_G = optim.Adam(G.parameters(), lr=0.0002, betas=(0.5, 0.999))\n",
    "    optimizer_D = optim.Adam(D.parameters(), lr=0.0002, betas=(0.5, 0.999))\n",
    "    criterion = nn.BCELoss()\n",
    "\n",
    "\n",
    "    return D, G, optimizer_G, optimizer_D, criterion"
   ]
  },
  {
   "cell_type": "code",
   "execution_count": 11,
   "id": "dd37d5ec-a4b1-4a51-96ed-4bde03604104",
   "metadata": {},
   "outputs": [],
   "source": [
    "batch_size = 64\n",
    "z_dim = 64\n",
    "output_dir = 'output/'\n",
    "PRINT_FREQ = 10\n",
    "FAKE_IMG_FNAME = \"fake_sample_epoch_{:04d}.png\"\n",
    "REAL_IMG_FNAME = \"real_sample_epoch_{:04d}.png\"\n",
    "LOGS_FNAME = \"logs.tsv\"\n",
    "PLOT_FNAME = \"plot.svg\"\n",
    "SAMPLES_FNAME = \"samples.svg\"\n",
    "CKPT_PREFIX = \"networks\"\n",
    "alpha = 0.98\n",
    "epochs = 50\n",
    "\n",
    "real_labels = torch.ones(batch_size, device=device)\n",
    "fake_labels = torch.zeros(batch_size, device=device)\n",
    "fixed_noise = torch.randn(batch_size, z_dim, device=device)\n",
    "\n",
    "D, G, optimizer_G, optimizer_D, criterion = initialize()\n",
    "\n",
    "def get_noise():\n",
    "    return torch.randn(batch_size, z_dim, device=device)\n",
    "\n",
    "# The main function, processing a batch of examples\n",
    "def step(engine, batch):\n",
    "    # unpack the batch. It comes from a dataset, so we have <images, labels> pairs. Discard labels.\n",
    "    real, _ = batch\n",
    "    real = real.to(device)\n",
    "\n",
    "    # -----------------------------------------------------------\n",
    "    # (1) Update D network: maximize log(D(x)) + log(1 - D(G(z)))\n",
    "    D.zero_grad()\n",
    "\n",
    "    # train with real\n",
    "    \n",
    "    output = D(real)\n",
    "    errD_real = criterion(output, real_labels)\n",
    "    D_x = output.mean().item()\n",
    "\n",
    "    errD_real.backward()\n",
    "\n",
    "    # get fake image from generator\n",
    "    noise = get_noise()\n",
    "    fake = G(noise)\n",
    "\n",
    "    # train with fake\n",
    "    output = D(fake.detach())\n",
    "    errD_fake = criterion(output, fake_labels)\n",
    "    D_G_z1 = output.mean().item()\n",
    "\n",
    "    errD_fake.backward()\n",
    "\n",
    "    # gradient update\n",
    "    errD = errD_real + errD_fake\n",
    "    optimizer_D.step()\n",
    "\n",
    "    # -----------------------------------------------------------\n",
    "    # (2) Update G network: maximize log(D(G(z)))\n",
    "    G.zero_grad()\n",
    "\n",
    "    # Update generator. We want to make a step that will make it more likely that discriminator outputs \"real\"\n",
    "    output = D(fake)\n",
    "\n",
    "    #errG = 1 - (criterion(D(fake), fake_labels) + criterion(D(real), real_labels))\n",
    "    errG = criterion(output, real_labels)\n",
    "    \n",
    "    D_G_z2 = output.mean().item()\n",
    "\n",
    "    errG.backward()\n",
    "\n",
    "    # gradient update\n",
    "    optimizer_G.step()\n",
    "\n",
    "    return {\"errD\": errD.item(), \"errG\": errG.item(), \"D_x\": D_x, \"D_G_z1\": D_G_z1, \"D_G_z2\": D_G_z2}\n"
   ]
  },
  {
   "cell_type": "code",
   "execution_count": 12,
   "id": "ee057a6e-ef0e-4d3f-a1c9-0472816cf242",
   "metadata": {},
   "outputs": [],
   "source": [
    "from ignite.contrib.handlers import ProgressBar\n",
    "from ignite.engine import Engine, Events\n",
    "from ignite.handlers import ModelCheckpoint, Timer\n",
    "from ignite.metrics import RunningAverage"
   ]
  },
  {
   "cell_type": "code",
   "execution_count": 13,
   "id": "abe78f6b-ea5c-46e7-808d-f0bc39f2b9f2",
   "metadata": {},
   "outputs": [
    {
     "name": "stderr",
     "output_type": "stream",
     "text": [
      "/tmp/ipykernel_562089/3922250684.py:3: TqdmWarning: IProgress not found. Please update jupyter and ipywidgets. See https://ipywidgets.readthedocs.io/en/stable/user_install.html\n",
      "  from tqdm.autonotebook import tqdm\n"
     ]
    }
   ],
   "source": [
    "from torch.utils.tensorboard import SummaryWriter\n",
    "from datetime import datetime\n",
    "from tqdm.autonotebook import tqdm"
   ]
  },
  {
   "cell_type": "markdown",
   "id": "a35f7634-241a-45ee-9666-7172789c331b",
   "metadata": {},
   "source": [
    "### Vamos a ver como usar ignite para entrenamiento supervisado, no se olviden de ver el dashboard the TensorBoard en [http://localhost:6000/](http://localhost:6000/)\n",
    "\n",
    "#### en una consola externa, en la carpeta Day-x ejecutar: \n",
    "##### tensorboard --logdir=./output --port 6006  --host 0.0.0.0 --load_fast=false"
   ]
  },
  {
   "cell_type": "code",
   "execution_count": 14,
   "id": "5da7695c-4ff6-454e-b061-e221e515865b",
   "metadata": {},
   "outputs": [
    {
     "name": "stdout",
     "output_type": "stream",
     "text": [
      "rm: cannot remove 'output/*': No such file or directory\n"
     ]
    }
   ],
   "source": [
    "#!rm -r output/*"
   ]
  },
  {
   "cell_type": "code",
   "execution_count": 15,
   "id": "5426e224-ada4-44cb-a55a-d03f73d9cba5",
   "metadata": {},
   "outputs": [
    {
     "name": "stderr",
     "output_type": "stream",
     "text": [
      "                                                                                  \r"
     ]
    }
   ],
   "source": [
    "# ignite objects\n",
    "trainer = Engine(step)\n",
    "checkpoint_handler = ModelCheckpoint(output_dir, CKPT_PREFIX, n_saved=10, require_empty=False)\n",
    "timer = Timer(average=True)\n",
    "\n",
    "# attach running average metrics\n",
    "monitoring_metrics = [\"errD\", \"errG\", \"D_x\", \"D_G_z1\", \"D_G_z2\"]\n",
    "RunningAverage(alpha=alpha, output_transform=lambda x: x[\"errD\"]).attach(trainer, \"errD\")\n",
    "RunningAverage(alpha=alpha, output_transform=lambda x: x[\"errG\"]).attach(trainer, \"errG\")\n",
    "RunningAverage(alpha=alpha, output_transform=lambda x: x[\"D_x\"]).attach(trainer, \"D_x\")\n",
    "RunningAverage(alpha=alpha, output_transform=lambda x: x[\"D_G_z1\"]).attach(trainer, \"D_G_z1\")\n",
    "RunningAverage(alpha=alpha, output_transform=lambda x: x[\"D_G_z2\"]).attach(trainer, \"D_G_z2\")\n",
    "\n",
    "#tensorboard\n",
    "now = datetime.now()\n",
    "logdir = \"output/\" + now.strftime(\"%Y%m%d-%H%M%S\") + \"/\"\n",
    "writer = SummaryWriter(log_dir=logdir)\n",
    "\n",
    "\n",
    "# attach progress bar\n",
    "pbar = ProgressBar()\n",
    "pbar.attach(trainer, metric_names=monitoring_metrics)\n",
    "\n",
    "@trainer.on(Events.ITERATION_COMPLETED(every=PRINT_FREQ))\n",
    "def print_logs(engine):\n",
    "    fname = output_dir + LOGS_FNAME\n",
    "    columns = [\"iteration\"] + list(engine.state.metrics.keys())\n",
    "    values = [str(engine.state.iteration)] + [str(round(value, 5)) for value in engine.state.metrics.values()]\n",
    "    with open(fname, \"a\") as f:\n",
    "        if f.tell() == 0:\n",
    "            print(\"\\t\".join(columns), file=f)\n",
    "        print(\"\\t\".join(values), file=f)\n",
    "    message = f\"[{engine.state.epoch}/{epochs}][{engine.state.iteration % len(train_loader)}/{len(train_loader)}]\"\n",
    "    for name, value in zip(columns, values):\n",
    "        message += f\" | {name}: {value}\"\n",
    "\n",
    "    #pbar.log_message(message)\n",
    "\n",
    "@trainer.on(Events.EPOCH_COMPLETED(every=1))\n",
    "def print_tb(engine):\n",
    "    writer.add_scalars('Training/Loss',{'G_error':engine.state.metrics['errG'],\n",
    "                                         'D_error':engine.state.metrics['errD']}, engine.state.epoch)\n",
    "\n",
    "# adding handlers using `trainer.on` decorator API\n",
    "@trainer.on(Events.EPOCH_COMPLETED(every=10))\n",
    "def plot_tb_fake_example(engine):\n",
    "    fake = G(fixed_noise)\n",
    "    grid = vutils.make_grid(fake)\n",
    "    writer.add_image('Fake Images', grid, engine.state.epoch)    \n",
    "\n",
    "# adding handlers using `trainer.on` decorator API\n",
    "@trainer.on(Events.EPOCH_COMPLETED)\n",
    "def save_fake_example(engine):\n",
    "    fake = G(fixed_noise)\n",
    "    path = output_dir + FAKE_IMG_FNAME.format(engine.state.epoch)\n",
    "    vutils.save_image(fake.detach(), path, normalize=True)\n",
    "\n",
    "# adding handlers using `trainer.on` decorator API\n",
    "@trainer.on(Events.EPOCH_COMPLETED)\n",
    "def save_real_example(engine):\n",
    "    img, y = engine.state.batch\n",
    "    path = output_dir + REAL_IMG_FNAME.format(engine.state.epoch)\n",
    "    vutils.save_image(img, path, normalize=True)\n",
    "\n",
    "# adding handlers using `trainer.add_event_handler` method API\n",
    "trainer.add_event_handler(\n",
    "    event_name=Events.EPOCH_COMPLETED, handler=checkpoint_handler, to_save={\"netG\": G, \"netD\": D}\n",
    ")\n",
    "\n",
    "# automatically adding handlers via a special `attach` method of `Timer` handler\n",
    "timer.attach(\n",
    "    trainer,\n",
    "    start=Events.EPOCH_STARTED,\n",
    "    resume=Events.ITERATION_STARTED,\n",
    "    pause=Events.ITERATION_COMPLETED,\n",
    "    step=Events.ITERATION_COMPLETED,\n",
    ")\n",
    "\n",
    "# adding handlers using `trainer.on` decorator API\n",
    "@trainer.on(Events.EPOCH_COMPLETED)\n",
    "def print_times(engine):\n",
    "    #pbar.log_message(f\"Epoch {engine.state.epoch} done. Time per batch: {timer.value():.3f}[s]\")\n",
    "    timer.reset()\n",
    "\n",
    "# adding handlers using `trainer.on` decorator API\n",
    "@trainer.on(Events.EPOCH_COMPLETED)\n",
    "def create_plots(engine):\n",
    "    try:\n",
    "\n",
    "        import pandas as pd\n",
    "        import matplotlib.pyplot as plt\n",
    "        plt.style.use('https://github.com/dhaitz/matplotlib-stylesheets/raw/master/pitayasmoothie-light.mplstyle')\n",
    "\n",
    "    except ImportError:\n",
    "        warnings.warn(\"Loss plots will not be generated -- pandas or matplotlib not found\")\n",
    "\n",
    "    else:\n",
    "        df = pd.read_csv(output_dir + '/' + LOGS_FNAME, delimiter=\"\\t\", index_col=\"iteration\")\n",
    "        _ = df.plot(subplots=True, figsize=(20, 20))\n",
    "        _ = plt.xlabel(\"Iteration number\")\n",
    "        fig = plt.gcf()\n",
    "        path = output_dir + PLOT_FNAME\n",
    "\n",
    "        fig.savefig(path)\n",
    "        plt.close()\n",
    "        \n",
    "\n",
    "# adding handlers using `trainer.on` decorator API\n",
    "@trainer.on(Events.EXCEPTION_RAISED)\n",
    "def handle_exception(engine, e):\n",
    "    if isinstance(e, KeyboardInterrupt) and (engine.state.iteration > 1):\n",
    "        engine.terminate()\n",
    "        warnings.warn(\"KeyboardInterrupt caught. Exiting gracefully.\")\n",
    "\n",
    "        create_plots(engine)\n",
    "        checkpoint_handler(engine, {\"netG_exception\": G, \"netD_exception\": D})\n",
    "\n",
    "    else:\n",
    "        raise e\n",
    "\n",
    "\n",
    "# Setup is done. Now let's run the training\n",
    "trainer.run(train_loader, epochs)\n",
    "writer.close()"
   ]
  },
  {
   "cell_type": "code",
   "execution_count": 16,
   "id": "c135c317-3e75-4766-a3a4-154352c12a7e",
   "metadata": {},
   "outputs": [],
   "source": [
    "from PIL import Image, ImageSequence\n",
    "import imageio\n",
    "import glob\n"
   ]
  },
  {
   "cell_type": "code",
   "execution_count": 17,
   "id": "90891f22-95c1-4c54-9912-25e7c632d554",
   "metadata": {},
   "outputs": [],
   "source": [
    "lista_imagenes = [ Image.open(x) for x in sorted(glob.glob(output_dir+'fake_*.png'))]"
   ]
  },
  {
   "cell_type": "code",
   "execution_count": 18,
   "id": "dc824240-ef28-4e3c-9763-cd04a21eba3a",
   "metadata": {},
   "outputs": [],
   "source": [
    "archivo_salida = output_dir+'GAN_generate_animation.gif'\n",
    "imageio.mimsave(archivo_salida, lista_imagenes, 'GIF')"
   ]
  },
  {
   "cell_type": "markdown",
   "id": "5fb2ea1e-9769-4f90-b03d-0785eab5b2a1",
   "metadata": {},
   "source": [
    "#### Podemos observar el progreso de la red generadora a medida que pasan las iteraciones \n"
   ]
  },
  {
   "cell_type": "markdown",
   "id": "e4ca7960-7907-4764-8c20-b0a377a43ebf",
   "metadata": {},
   "source": [
    "<img src=output/GAN_generate_animation.gif/>"
   ]
  },
  {
   "cell_type": "markdown",
   "id": "057f77e5",
   "metadata": {},
   "source": [
    "### Como podemos evaluar los artefactos generados? \n",
    "- Mostrar métricas clásicas y geométricas (FID, InceptionScore).\n",
    "- Comparar test estadisticos de distribuciones de datos reales y generados.\n",
    "- Usar clasificadores para datos reales."
   ]
  },
  {
   "cell_type": "code",
   "execution_count": 19,
   "id": "c3cf51e1-8f4f-41de-8bc8-a5bb9a5c7317",
   "metadata": {},
   "outputs": [],
   "source": [
    "import PIL.Image as Image\n",
    "\n",
    "def interpolate(batch):\n",
    "    arr = []\n",
    "    for img in batch:\n",
    "        pil_img = tfs.ToPILImage()(img)\n",
    "        pil_img = pil_img.convert(\"RGB\")\n",
    "        resized_img = pil_img.resize((128,128), Image.BILINEAR)\n",
    "        arr.append(tfs.ToTensor()(resized_img))\n",
    "    return torch.stack(arr)\n",
    "    \n",
    "def evaluation_step(engine, batch):\n",
    "    real, _ = batch\n",
    "    with torch.no_grad():\n",
    "        noise = get_noise()\n",
    "        G.eval()\n",
    "        fake_batch = G(noise)\n",
    "        fake = interpolate(fake_batch)\n",
    "        real = interpolate(real)\n",
    "        return fake, real"
   ]
  },
  {
   "cell_type": "code",
   "execution_count": 20,
   "id": "c36a745e-163c-4c46-b1a6-6b10211fad16",
   "metadata": {},
   "outputs": [],
   "source": [
    "from ignite.metrics import FID, InceptionScore"
   ]
  },
  {
   "cell_type": "code",
   "execution_count": 21,
   "id": "e87b95d4-cbed-4434-9bd5-fbc490e371f7",
   "metadata": {},
   "outputs": [],
   "source": [
    "fid_metric = FID(device=device)\n",
    "is_metric = InceptionScore(device=device, output_transform=lambda x: x[0])"
   ]
  },
  {
   "cell_type": "code",
   "execution_count": 22,
   "id": "3e30c06e-4e0b-4eb7-8c74-01da0ce0c10d",
   "metadata": {},
   "outputs": [],
   "source": [
    "evaluator = Engine(evaluation_step)\n",
    "\n",
    "imgs_fake = []\n",
    "imgs_reals = []\n",
    "\n",
    "@evaluator.on(Events.ITERATION_COMPLETED(every=1))\n",
    "def print_logs(engine):\n",
    "    global imgs_fake\n",
    "    global imgs_reals\n",
    "    fake, real = engine.state.output\n",
    "    imgs_fake += fake\n",
    "    imgs_reals+= real\n",
    "    "
   ]
  },
  {
   "cell_type": "code",
   "execution_count": 23,
   "id": "209b36ec-609e-4a36-a6e1-9eebb31a2ceb",
   "metadata": {},
   "outputs": [],
   "source": [
    "fid_metric.attach(evaluator, \"fid\")\n",
    "is_metric.attach(evaluator, \"is\")"
   ]
  },
  {
   "cell_type": "code",
   "execution_count": 24,
   "id": "166e416f-076f-4558-8419-c17d5ab21053",
   "metadata": {},
   "outputs": [],
   "source": [
    "evaluator.run(test_loader)\n",
    "metrics = evaluator.state.metrics\n",
    "fid_score = metrics['fid']\n",
    "is_score = metrics['is']"
   ]
  },
  {
   "cell_type": "code",
   "execution_count": null,
   "id": "c184cf28-14ec-4582-9b2e-655442c632c9",
   "metadata": {},
   "outputs": [],
   "source": []
  },
  {
   "cell_type": "markdown",
   "id": "9b278831-5098-4edb-9783-bf0db0450c29",
   "metadata": {},
   "source": [
    "## Inception Score"
   ]
  },
  {
   "cell_type": "code",
   "execution_count": 25,
   "id": "ca9f20fb-65e9-450b-97fd-fa2ee69e5237",
   "metadata": {},
   "outputs": [
    {
     "data": {
      "text/plain": [
       "10.95720568809963"
      ]
     },
     "execution_count": 25,
     "metadata": {},
     "output_type": "execute_result"
    }
   ],
   "source": [
    "is_score"
   ]
  },
  {
   "cell_type": "markdown",
   "id": "04dbf6ec-57f6-46fc-bc4c-61326c0a9b6a",
   "metadata": {},
   "source": [
    "## FID Score"
   ]
  },
  {
   "cell_type": "code",
   "execution_count": 26,
   "id": "5764fad6-9f04-4960-8145-5af649c73146",
   "metadata": {},
   "outputs": [
    {
     "data": {
      "text/plain": [
       "0.24481634131213237"
      ]
     },
     "execution_count": 26,
     "metadata": {},
     "output_type": "execute_result"
    }
   ],
   "source": [
    "fid_score"
   ]
  },
  {
   "cell_type": "markdown",
   "id": "64e48927-2e44-45e2-8ec9-24df5ef45753",
   "metadata": {},
   "source": [
    "## Espacio PCA"
   ]
  },
  {
   "cell_type": "code",
   "execution_count": 27,
   "id": "89434816-e892-4827-b16b-c3580a6ab9cf",
   "metadata": {},
   "outputs": [],
   "source": [
    "import numpy as np"
   ]
  },
  {
   "cell_type": "code",
   "execution_count": 28,
   "id": "febd42e6-0cfb-4edb-9e4f-19a1e0e84ae5",
   "metadata": {},
   "outputs": [],
   "source": [
    "imgs_reals_list =  [i.numpy().tolist() for i in (imgs_reals)]\n",
    "imgs_fake_list =  [i.numpy().tolist() for i in (imgs_fake)]"
   ]
  },
  {
   "cell_type": "code",
   "execution_count": 29,
   "id": "d27549d6-9085-41d7-8a4e-2cbbac5bf10f",
   "metadata": {},
   "outputs": [],
   "source": [
    "all_data = imgs_reals_list + imgs_fake_list"
   ]
  },
  {
   "cell_type": "code",
   "execution_count": 30,
   "id": "b4359857-19f9-4ba4-9934-cc2bf5b6c8b5",
   "metadata": {},
   "outputs": [],
   "source": [
    "all_data = np.array(all_data)"
   ]
  },
  {
   "cell_type": "code",
   "execution_count": 31,
   "id": "42dd6b35-dda9-42e2-87ee-7bce16e9ab5f",
   "metadata": {},
   "outputs": [],
   "source": [
    "from sklearn.decomposition import PCA\n",
    "\n",
    "all_data = all_data.reshape(512, -1)\n",
    "\n",
    "pca = PCA(n_components=2).fit(all_data)\n",
    "Xp = pca.transform(all_data)"
   ]
  },
  {
   "cell_type": "code",
   "execution_count": 32,
   "id": "e8e732dc-88e6-4a98-9dfd-38e7827a0d0d",
   "metadata": {},
   "outputs": [
    {
     "data": {
      "text/plain": [
       "(512, 2)"
      ]
     },
     "execution_count": 32,
     "metadata": {},
     "output_type": "execute_result"
    }
   ],
   "source": [
    "Xp.shape"
   ]
  },
  {
   "cell_type": "code",
   "execution_count": 33,
   "id": "80865c18-a5f4-4de4-af60-2fb62d562600",
   "metadata": {},
   "outputs": [],
   "source": [
    "#import matplotlib.pyplot as plt\n",
    "import matplotlib.pyplot as plt\n",
    "plt.style.use('https://github.com/dhaitz/matplotlib-stylesheets/raw/master/pitayasmoothie-light.mplstyle')\n",
    "plt.close()"
   ]
  },
  {
   "cell_type": "code",
   "execution_count": 34,
   "id": "645baafa-147b-4c91-bf02-66cba10ae74e",
   "metadata": {},
   "outputs": [],
   "source": [
    "%matplotlib inline"
   ]
  },
  {
   "cell_type": "code",
   "execution_count": 35,
   "id": "7213fbc7-a433-4406-8aed-aaa72d7ee6e7",
   "metadata": {},
   "outputs": [],
   "source": [
    "colors = np.zeros(256).tolist() + np.ones(256).tolist()"
   ]
  },
  {
   "cell_type": "code",
   "execution_count": 36,
   "id": "74639c0b-ad59-4ee7-8135-9ba578068ae1",
   "metadata": {},
   "outputs": [
    {
     "data": {
      "text/plain": [
       "<matplotlib.legend.Legend at 0x7f97254247f0>"
      ]
     },
     "execution_count": 36,
     "metadata": {},
     "output_type": "execute_result"
    },
    {
     "data": {
      "image/png": "[encoded data removed]",
      "text/plain": [
       "<Figure size 640x480 with 1 Axes>"
      ]
     },
     "metadata": {},
     "output_type": "display_data"
    }
   ],
   "source": [
    "import pandas as pd\n",
    "\n",
    "name_dic = {1.0:'Real', 0:'Fake'}\n",
    "\n",
    "\n",
    "pca_df = pd.DataFrame(Xp, columns=['PC1', 'PC2'])\n",
    "#labels = pd.DataFrame(colors, columns=['class'])\n",
    "labels = pd.DataFrame([name_dic[c] for c in colors], columns=['class'])\n",
    "pca_df = pd.concat([pca_df, labels], axis=1)\n",
    "\n",
    "groups = pca_df.groupby('class')\n",
    "\n",
    "\n",
    "fig, ax = plt.subplots()\n",
    "ax.margins(0.05) # Optional, just adds 5% padding to the autoscaling\n",
    "for name, group in groups:\n",
    "        ax.plot(group.PC1, group.PC2, marker='o', linestyle='', ms=5, label=name, alpha=1)\n",
    "\n",
    "plt.title('Generated and Real Samples from Iberian Pottery Dataset')\n",
    "ax.legend()"
   ]
  },
  {
   "cell_type": "code",
   "execution_count": 37,
   "id": "204e09da-874d-474c-a74b-114d468b1d82",
   "metadata": {},
   "outputs": [
    {
     "data": {
      "text/plain": [
       "<seaborn.axisgrid.PairGrid at 0x7f9725c1b280>"
      ]
     },
     "execution_count": 37,
     "metadata": {},
     "output_type": "execute_result"
    },
    {
     "data": {
      "image/png": "[encoded data removed]",
      "text/plain": [
       "<Figure size 581.5x500 with 6 Axes>"
      ]
     },
     "metadata": {},
     "output_type": "display_data"
    }
   ],
   "source": [
    "import seaborn as sns\n",
    "sns.pairplot(pca_df, hue='class')"
   ]
  },
  {
   "cell_type": "markdown",
   "id": "a627bf00-9972-4256-bb4e-befe7775ce2f",
   "metadata": {},
   "source": [
    "## Geometric Score"
   ]
  },
  {
   "cell_type": "code",
   "execution_count": 38,
   "id": "e02fc5e2-4707-4c2e-9db1-bde520752bf0",
   "metadata": {},
   "outputs": [
    {
     "name": "stdout",
     "output_type": "stream",
     "text": [
      "fatal: destination path 'geometry-score' already exists and is not an empty directory.\n"
     ]
    }
   ],
   "source": [
    "!git clone https://github.com/KhrulkovV/geometry-score.git"
   ]
  },
  {
   "cell_type": "code",
   "execution_count": 39,
   "id": "2c92cb20-5384-4804-a8f5-9a5b454215dd",
   "metadata": {},
   "outputs": [],
   "source": [
    "import sys\n",
    "sys.path.append('./geometry-score/')\n",
    "import gs"
   ]
  },
  {
   "cell_type": "code",
   "execution_count": 40,
   "id": "15dc655e-45f3-4d2b-8bca-63f6bf5f4c9c",
   "metadata": {},
   "outputs": [],
   "source": [
    "all_data[all_data>0.5] = 1\n",
    "all_data[all_data<0.5] = 0"
   ]
  },
  {
   "cell_type": "code",
   "execution_count": 41,
   "id": "06b707bb-c7c4-4b9b-b83b-03402a0b3066",
   "metadata": {},
   "outputs": [],
   "source": [
    "y_1 = all_data[0:256]\n",
    "x_1 = all_data[256:]"
   ]
  },
  {
   "cell_type": "code",
   "execution_count": 42,
   "id": "01f6b5dd-a3b8-4cbc-b20e-2b3d84cf797c",
   "metadata": {},
   "outputs": [
    {
     "name": "stdout",
     "output_type": "stream",
     "text": [
      "Done 0/256\n",
      "Done 10/256\n",
      "Done 20/256\n",
      "Done 30/256\n",
      "Done 40/256\n",
      "Done 50/256\n",
      "Done 60/256\n",
      "Done 70/256\n",
      "Done 80/256\n",
      "Done 90/256\n",
      "Done 100/256\n",
      "Done 110/256\n",
      "Done 120/256\n",
      "Done 130/256\n",
      "Done 140/256\n",
      "Done 150/256\n",
      "Done 160/256\n",
      "Done 170/256\n",
      "Done 180/256\n",
      "Done 190/256\n",
      "Done 200/256\n",
      "Done 210/256\n",
      "Done 220/256\n",
      "Done 230/256\n",
      "Done 240/256\n",
      "Done 250/256\n"
     ]
    }
   ],
   "source": [
    "rlts_fake = gs.rlts(x_1, gamma=1.0/128, n=x_1.shape[0])\n",
    "mrlt_fake = np.mean(rlts_fake, axis=0)"
   ]
  },
  {
   "cell_type": "code",
   "execution_count": null,
   "id": "9a35099f-cfbf-4eac-98b3-c99c68373f1d",
   "metadata": {
    "scrolled": true
   },
   "outputs": [
    {
     "name": "stdout",
     "output_type": "stream",
     "text": [
      "Done 0/256\n",
      "Done 10/256\n",
      "Done 20/256\n",
      "Done 30/256\n",
      "Done 40/256\n",
      "Done 50/256\n",
      "Done 60/256\n",
      "Done 70/256\n",
      "Done 80/256\n",
      "Done 90/256\n",
      "Done 100/256\n",
      "Done 110/256\n",
      "Done 120/256\n",
      "Done 130/256\n"
     ]
    }
   ],
   "source": [
    "rlts_real = gs.rlts(y_1, gamma=1.0/128, n=y_1.shape[0])\n",
    "mrlt_real = np.mean(rlts_real, axis=0)"
   ]
  },
  {
   "cell_type": "code",
   "execution_count": null,
   "id": "84b11bba-1d0c-43f8-ae95-304cbb2cf433",
   "metadata": {},
   "outputs": [],
   "source": [
    "gs.fancy_plot(mrlt_real, label='Real', color='#ff6e9c')\n",
    "gs.fancy_plot(mrlt_fake, label='Fake', color='#7a76c2')\n",
    "plt.xlim([0, 60])\n",
    "plt.legend()"
   ]
  },
  {
   "cell_type": "code",
   "execution_count": null,
   "id": "28e89ee1-a91f-4c65-9e85-24c5a3a535f7",
   "metadata": {},
   "outputs": [],
   "source": [
    "print('GS-SCORE', gs.geom_score(rlts_fake, rlts_real))\n"
   ]
  },
  {
   "cell_type": "code",
   "execution_count": null,
   "id": "493ff5d9-1f0e-46d1-95d1-895fed16d2dc",
   "metadata": {},
   "outputs": [],
   "source": [
    "len(imgs_reals_list)\n",
    "len(imgs_fake_list)"
   ]
  },
  {
   "cell_type": "code",
   "execution_count": null,
   "id": "f2f3d508-db79-424f-b29d-c414e290a31c",
   "metadata": {},
   "outputs": [],
   "source": [
    "####"
   ]
  },
  {
   "cell_type": "code",
   "execution_count": null,
   "id": "8e79be2b-61aa-43b7-a9a4-45e9cb18e1ec",
   "metadata": {},
   "outputs": [],
   "source": [
    "imgs_fake_torch = torch.stack(imgs_fake)"
   ]
  },
  {
   "cell_type": "code",
   "execution_count": null,
   "id": "a94fc813-7f73-46e1-ba16-361fa43442b6",
   "metadata": {},
   "outputs": [],
   "source": [
    "transforms_test = [\n",
    "    tfs.ToPILImage(),\n",
    "    tfs.RandomHorizontalFlip(p=0.7),\n",
    "    tfs.RandomAffine(0, scale=(0.7, 1.0)),\n",
    "    tfs.Resize((64, 64)),\n",
    "    tfs.Grayscale(1),\n",
    "    tfs.ToTensor(),\n",
    "]"
   ]
  },
  {
   "cell_type": "code",
   "execution_count": null,
   "id": "58b6cd6a-f7ce-48b5-bd06-e0e4908339cb",
   "metadata": {},
   "outputs": [],
   "source": [
    "output = torch.stack([tfs.Compose(transforms_test)(a) for a in imgs_fake_torch])"
   ]
  },
  {
   "cell_type": "code",
   "execution_count": null,
   "id": "12f15a63-822d-4603-9e2f-fd6778c4ed29",
   "metadata": {
    "scrolled": true
   },
   "outputs": [],
   "source": [
    "sys.path.append('../Day-1/.')\n",
    "from models import classifier"
   ]
  },
  {
   "cell_type": "code",
   "execution_count": null,
   "id": "1b1b46e2-3bdf-4ba1-9107-8ae769dd3f82",
   "metadata": {},
   "outputs": [],
   "source": [
    "final_classifier = classifier._C(input_h_w=64)\n",
    "final_classifier.load_state_dict(torch.load(\"../Day-1/weights/classifier.pkl\"))"
   ]
  },
  {
   "cell_type": "code",
   "execution_count": null,
   "id": "b4d59656-b588-4900-8b5c-593c5ae8fa17",
   "metadata": {},
   "outputs": [],
   "source": [
    "output_class = final_classifier(output).detach().numpy()"
   ]
  },
  {
   "cell_type": "code",
   "execution_count": null,
   "id": "64a87dfb-e8fc-4c35-87c5-e1edf5b98dac",
   "metadata": {},
   "outputs": [],
   "source": [
    "classes = np.argmax(output_class, 1)"
   ]
  },
  {
   "cell_type": "code",
   "execution_count": null,
   "id": "8eb91e52-2066-430c-9f9e-c8c315375b57",
   "metadata": {},
   "outputs": [],
   "source": [
    "(unique, counts) = np.unique(classes, return_counts=True)"
   ]
  },
  {
   "cell_type": "code",
   "execution_count": null,
   "id": "bbe48ae1-4cbb-4c68-bf19-41a54d8a82ef",
   "metadata": {},
   "outputs": [],
   "source": [
    "plt.bar(unique, counts)\n",
    "_ = plt.xticks(range(0,10))\n",
    "plt.title('Frecuencia de Clases generadas')\n",
    "plt.xlabel('Clases', fontsize=15)\n",
    "plt.ylabel('Frecuencia', fontsize=15)"
   ]
  },
  {
   "cell_type": "code",
   "execution_count": null,
   "id": "e5a9e0c6-f9d3-42d7-8966-7b37cf88614a",
   "metadata": {},
   "outputs": [],
   "source": [
    "classes_prob = np.max(output_class, 1)"
   ]
  },
  {
   "cell_type": "code",
   "execution_count": null,
   "id": "2ecbadf6-d304-4282-af28-4a444bce84a9",
   "metadata": {},
   "outputs": [],
   "source": [
    "# Datos de ejemplo\n",
    "datos = classes_prob\n",
    "\n",
    "# Crear el histograma\n",
    "plt.hist(datos, bins=5, edgecolor='black')\n",
    "\n",
    "# Personalizar el histograma\n",
    "plt.title('Histograma')\n",
    "plt.xlabel('Valores')"
   ]
  },
  {
   "cell_type": "markdown",
   "id": "ebf78ce5",
   "metadata": {},
   "source": [
    "### Ejercicios\n",
    "- ..."
   ]
  },
  {
   "cell_type": "code",
   "execution_count": null,
   "id": "7dffdabb-e2f4-4d5f-8717-076fd56c09a9",
   "metadata": {},
   "outputs": [],
   "source": []
  },
  {
   "cell_type": "code",
   "execution_count": null,
   "id": "85404928-c9b0-4315-a24a-07c4ff09d230",
   "metadata": {},
   "outputs": [],
   "source": []
  },
  {
   "cell_type": "code",
   "execution_count": null,
   "id": "7bb6c592-a209-4e7c-9c98-a8ea64429486",
   "metadata": {},
   "outputs": [],
   "source": []
  },
  {
   "cell_type": "code",
   "execution_count": null,
   "id": "00a40ffc-1a65-4881-afe4-628a7bc056e6",
   "metadata": {},
   "outputs": [],
   "source": []
  }
 ],
 "metadata": {
  "kernelspec": {
   "display_name": "Python 3 (ipykernel)",
   "language": "python",
   "name": "python3"
  },
  "language_info": {
   "codemirror_mode": {
    "name": "ipython",
    "version": 3
   },
   "file_extension": ".py",
   "mimetype": "text/x-python",
   "name": "python",
   "nbconvert_exporter": "python",
   "pygments_lexer": "ipython3",
   "version": "3.10.11"
  }
 },
 "nbformat": 4,
 "nbformat_minor": 5
}
